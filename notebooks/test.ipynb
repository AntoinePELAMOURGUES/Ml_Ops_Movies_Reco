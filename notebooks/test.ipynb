{
   "cells": [
      {
         "cell_type": "code",
         "execution_count": 1,
         "metadata": {},
         "outputs": [],
         "source": [
            "import pandas as pd\n",
            "import os\n",
            "import json\n",
            "import pickle\n",
            "from scipy.sparse import csr_matrix\n",
            "from sklearn.neighbors import NearestNeighbors\n",
            "from sklearn.metrics.pairwise import cosine_similarity\n",
            "import numpy as np\n",
            "from fuzzywuzzy import process\n",
            "from sklearn.decomposition import TruncatedSVD\n",
            "\n"
         ]
      },
      {
         "cell_type": "code",
         "execution_count": 11,
         "metadata": {},
         "outputs": [],
         "source": [
            "# Ouverture fichier ratings\n",
            "def read_ratings(ratings_csv: str, data_dir: str = \"/app/raw\") -> pd.DataFrame:\n",
            "    \"\"\"\n",
            "    Lit le fichier CSV contenant les évaluations des films.\n",
            "\n",
            "    :param ratings_csv: Nom du fichier CSV contenant les évaluations.\n",
            "    :param data_dir: Répertoire où se trouve le fichier CSV.\n",
            "    :return: DataFrame contenant les évaluations.\n",
            "    \"\"\"\n",
            "    data = pd.read_csv(os.path.join(data_dir, ratings_csv))\n",
            "    print(\"Dataset ratings chargé\")\n",
            "    return data\n",
            "\n",
            "# Ouverture fichier movies\n",
            "def read_movies(movies_csv: str, data_dir: str = \"/app/raw\") -> pd.DataFrame:\n",
            "    \"\"\"\n",
            "    Lit le fichier CSV contenant les informations sur les films.\n",
            "\n",
            "    :param movies_csv: Nom du fichier CSV contenant les informations sur les films.\n",
            "    :param data_dir: Répertoire où se trouve le fichier CSV.\n",
            "    :return: DataFrame contenant les informations sur les films.\n",
            "    \"\"\"\n",
            "    df = pd.read_csv(os.path.join(data_dir, movies_csv))\n",
            "    print(\"Dataset movies chargé\")\n",
            "    return df\n",
            "\n",
            "# Ouverture fichier links\n",
            "def read_links(links_csv: str, data_dir: str = \"/app/raw\") -> pd.DataFrame:\n",
            "    \"\"\"\n",
            "    Lit le fichier CSV contenant les informations sur les liens des affiches scrappés.\n",
            "\n",
            "    :param links_csv: Nom du fichier CSV contenant les liens des affiches.\n",
            "    :param data_dir: Répertoire où se trouve le fichier CSV.\n",
            "    :return: DataFrame contenant movieId et lien vers les affiches.\n",
            "    \"\"\"\n",
            "    df = pd.read_csv(os.path.join(data_dir, links_csv))\n",
            "    df = df[['movieId', 'cover_link']]\n",
            "    print(\"Dataset links chargé\")\n",
            "    return df\n",
            "\n",
            "# Chargement du dernier modèle\n",
            "def load_model(directory = \"/app/model\") :\n",
            "    \"\"\"Charge le modèle à partir d'un répertoire.\"\"\"\n",
            "    # Vérifier si le répertoire existe\n",
            "    if not os.path.exists(directory):\n",
            "        raise FileNotFoundError(f\"Le répertoire {directory} n'existe pas.\")\n",
            "    # Charger le modèle\n",
            "    filepath = os.path.join(directory, 'model_knn.pkl')\n",
            "    with open(filepath, 'rb') as file:\n",
            "        model = pickle.load(file)\n",
            "        print(f'Modèle chargé depuis {filepath}')\n",
            "    return model\n",
            "\n",
            "# Creation de notre matrice creuse\n",
            "def create_X(df):\n",
            "    \"\"\"\n",
            "    Génère une matrice creuse avec quatre dictionnaires de mappage\n",
            "    - user_mapper: mappe l'ID utilisateur à l'index utilisateur\n",
            "    - movie_mapper: mappe l'ID du film à l'index du film\n",
            "    - user_inv_mapper: mappe l'index utilisateur à l'ID utilisateur\n",
            "    - movie_inv_mapper: mappe l'index du film à l'ID du film\n",
            "    Args:\n",
            "        df: pandas dataframe contenant 3 colonnes (userId, movieId, rating)\n",
            "    Returns:\n",
            "        X: sparse matrix\n",
            "        user_mapper: dict that maps user id's to user indices\n",
            "        user_inv_mapper: dict that maps user indices to user id's\n",
            "        movie_mapper: dict that maps movie id's to movie indices\n",
            "        movie_inv_mapper: dict that maps movie indices to movie id's\n",
            "    \"\"\"\n",
            "      # Nombre unique d'utilisateurs et de films\n",
            "    M = df['userId'].nunique()  # Compte le nombre d'utilisateurs uniques\n",
            "    N = df['movieId'].nunique()  # Compte le nombre de films uniques\n",
            "    # Créer un dictionnaire pour mapper les IDs utilisateurs à des indices\n",
            "    user_mapper = dict(zip(np.unique(df[\"userId\"]), list(range(M))))\n",
            "    # Créer un dictionnaire pour mapper les IDs de films à des indices\n",
            "    movie_mapper = dict(zip(np.unique(df[\"movieId\"]), list(range(N))))\n",
            "    # Créer un dictionnaire inverse pour mapper les indices utilisateurs aux IDs utilisateurs\n",
            "    user_inv_mapper = dict(zip(list(range(M)), np.unique(df[\"userId\"])))\n",
            "    # Créer un dictionnaire inverse pour mapper les indices de films aux IDs de films\n",
            "    movie_inv_mapper = dict(zip(list(range(N)), np.unique(df[\"movieId\"])))\n",
            "    # Obtenir les indices correspondants pour chaque utilisateur et film dans le DataFrame\n",
            "    user_index = [user_mapper[i] for i in df['userId']]  # Convertir les IDs utilisateurs en indices\n",
            "    item_index = [movie_mapper[i] for i in df['movieId']]  # Convertir les IDs de films en indices\n",
            "    # Créer une matrice creuse en utilisant les évaluations, les indices d'utilisateur et de film\n",
            "    X = csr_matrix((df[\"rating\"], (user_index, item_index)), shape=(M, N))\n",
            "    return X, user_mapper, movie_mapper, user_inv_mapper, movie_inv_mapper\n",
            "\n",
            "# Predictions si utilisateur connu\n",
            "def find_similar_movies(movie_id, X, movie_mapper, movie_inv_mapper, model, k=10):\n",
            "    \"\"\"\n",
            "    Trouve les k voisins les plus proches pour un ID de film donné.\n",
            "    Args:\n",
            "        movie_id: ID du film d'intérêt\n",
            "        X: matrice d'utilité utilisateur-article (matrice creuse)\n",
            "        k: nombre de films similaires à récupérer\n",
            "        metric: métrique de distance pour les calculs kNN\n",
            "    Output: retourne une liste des k ID de films similaires\n",
            "    \"\"\"\n",
            "    # Transposer la matrice X pour que les films soient en lignes et les utilisateurs en colonnes\n",
            "    X = X.T\n",
            "    neighbour_ids = []  # Liste pour stocker les ID des films similaires\n",
            "    # Obtenir l'index du film à partir du mapper\n",
            "    movie_ind = movie_mapper[movie_id]\n",
            "    # Extraire le vecteur correspondant au film spécifié\n",
            "    movie_vec = X[movie_ind]\n",
            "    # Vérifier si movie_vec est un tableau NumPy et le remodeler en 2D si nécessaire\n",
            "    if isinstance(movie_vec, (np.ndarray)):\n",
            "        movie_vec = movie_vec.reshape(1, -1)  # Reshape pour avoir une forme (1, n_features)\n",
            "    # Chargement du modèle\n",
            "    kNN = model\n",
            "\n",
            "    kNN.fit(X)\n",
            "    # Trouver les k+1 voisins les plus proches (y compris le film d'intérêt)\n",
            "    neighbour = kNN.kneighbors(movie_vec, return_distance=False)\n",
            "    # Collecter les ID des films parmi les voisins trouvés\n",
            "    for i in range(0, k):  # Boucler jusqu'à k pour obtenir seulement les films similaires\n",
            "        n = neighbour.item(i)  # Obtenir l'index du voisin\n",
            "        neighbour_ids.append(movie_inv_mapper[n])  # Mapper l'index à l'ID du film\n",
            "    neighbour_ids.pop(0)  # Retirer le premier élément qui est l'ID du film original\n",
            "    return neighbour_ids  # Retourner la liste des ID de films similaires\n",
            "\n",
            "# Fonction recommendation si utilisateur inconnu\n",
            "def get_content_based_recommendations(title, n_recommendations=10):\n",
            "    idx = movie_idx[title]\n",
            "    sim_scores = list(enumerate(cosine_sim[idx]))\n",
            "    sim_scores = sorted(sim_scores, key=lambda x: x[1], reverse=True)\n",
            "    sim_scores = sim_scores[1:(n_recommendations+1)]\n",
            "    similar_movies = [i[0] for i in sim_scores]\n",
            "    return similar_movies\n",
            "\n",
            "# Validation de l'utilisateur\n",
            "def validate_userId(userId):\n",
            "    # Vérifier si userId est dans la plage valide\n",
            "    if userId < 1 or userId > 138493:\n",
            "        return \"Le numéro d'utilisateur doit être compris entre 1 et 138493.\"\n",
            "    return None\n",
            "\n",
            "# Recherche un titre proche de la requete\n",
            "def movie_finder(title):\n",
            "    all_titles = movies['title'].tolist()\n",
            "    closest_match = process.extractOne(title,all_titles)\n",
            "    return closest_match[0]"
         ]
      },
      {
         "cell_type": "code",
         "execution_count": 5,
         "metadata": {},
         "outputs": [
            {
               "name": "stdout",
               "output_type": "stream",
               "text": [
                  "DEBUT DES CHARGEMENTS\n",
                  "Dataset ratings chargé\n",
                  "Dataset movies chargé\n",
                  "Dataset links chargé\n",
                  "Modèle chargé depuis /home/antoine/Ml_Ops_Movies_Reco/app/shared_volume/model/model_knn.pkl\n",
                  "Dimensions of our genres cosine similarity matrix: (27278, 27278)\n",
                  "FIN DES CHARGEMENTS\n"
               ]
            }
         ],
         "source": [
            "print(\"DEBUT DES CHARGEMENTS\")\n",
            "ratings = read_ratings('/home/antoine/Ml_Ops_Movies_Reco/app/shared_volume/raw/ratings.csv')\n",
            "movies = read_movies('/home/antoine/Ml_Ops_Movies_Reco/app/shared_volume/raw/movies.csv')\n",
            "links = read_links('/home/antoine/Ml_Ops_Movies_Reco/app/shared_volume/raw/links2.csv')\n",
            "model_knn = load_model('/home/antoine/Ml_Ops_Movies_Reco/app/shared_volume/model')\n",
            "X, user_mapper, movie_mapper, user_inv_mapper, movie_inv_mapper = create_X(ratings)\n",
            "svd = TruncatedSVD(n_components=20, n_iter=10)\n",
            "Q = svd.fit_transform(X.T)\n",
            "genres = set(g for G in movies['genres'] for g in G)\n",
            "for g in genres:\n",
            "    movies[g] = movies.genres.transform(lambda x: int(g in x))\n",
            "movie_genres = movies.drop(columns=['movieId', 'title','genres'])\n",
            "movie_idx = dict(zip(movies['title'], list(movies.index)))\n",
            "cosine_sim = cosine_similarity(movie_genres, movie_genres)\n",
            "print(f\"Dimensions of our genres cosine similarity matrix: {cosine_sim.shape}\")\n",
            "movie_titles = dict(zip(movies['movieId'], movies['title']))\n",
            "movie_covers = dict(zip(links['movieId'], links['cover_link']))\n",
            "print(\"FIN DES CHARGEMENTS\")"
         ]
      },
      {
         "cell_type": "code",
         "execution_count": 7,
         "metadata": {},
         "outputs": [
            {
               "name": "stdout",
               "output_type": "stream",
               "text": [
                  "MisÃ©rables, Les (1995)\n"
               ]
            }
         ],
         "source": [
            "movie_title = movie_finder('les misérables')\n",
            "print(movie_title)"
         ]
      },
      {
         "cell_type": "code",
         "execution_count": 8,
         "metadata": {},
         "outputs": [],
         "source": [
            "user_id = 10"
         ]
      },
      {
         "cell_type": "code",
         "execution_count": 9,
         "metadata": {},
         "outputs": [
            {
               "name": "stdout",
               "output_type": "stream",
               "text": [
                  "73\n"
               ]
            }
         ],
         "source": [
            "movie_id = int(movies['movieId'][movies['title'] == movie_title].iloc[0])\n",
            "print(movie_id)"
         ]
      },
      {
         "cell_type": "code",
         "execution_count": 13,
         "metadata": {},
         "outputs": [
            {
               "name": "stdout",
               "output_type": "stream",
               "text": [
                  "[986, 1271, 1416, 1873, 1411, 531, 534, 1087, 1678, 1727]\n"
               ]
            }
         ],
         "source": [
            "similar_movies = find_similar_movies(movie_id, Q.T, movie_mapper, movie_inv_mapper, model = model_knn, k=11)\n",
            "print(similar_movies)"
         ]
      },
      {
         "cell_type": "code",
         "execution_count": 18,
         "metadata": {},
         "outputs": [
            {
               "name": "stdout",
               "output_type": "stream",
               "text": [
                  "{'user_choice': {'title': 'MisÃ©rables, Les (1995)', 'cover': 'https://m.media-amazon.com/images/M/MV5BNmYyZjA0YmEtNGU5Ni00YzVjLWJkMTAtZmU0NGI2Y2Y3ODQwXkEyXkFqcGc@._V1_QL75_UY281_CR8,0,190,281_.jpg'}, 'recommendations': [{'title': 'Fly Away Home (1996)', 'cover': 'https://m.media-amazon.com/images/M/MV5BYjQyMzFhYTItODYxYy00MDNmLTgyOGEtNGRmZTg5YzhlNjEyXkEyXkFqcGdeQXVyMjUzOTY1NTc@._V1_QL75_UX190_CR0,1,190,281_.jpg'}, {'title': 'Fried Green Tomatoes (1991)', 'cover': 'https://m.media-amazon.com/images/M/MV5BMzBhMzRkNGItNDFmMy00NjViLWFiYWYtMzAxMzI4YTZmZjRlXkEyXkFqcGc@._V1_QL75_UX190_CR0,1,190,281_.jpg'}, {'title': 'Evita (1996)', 'cover': 'https://m.media-amazon.com/images/M/MV5BODNjMWViYzUtMzk4ZC00NjU4LTlmNjItNzc1ZjRiZGE3Y2E1XkEyXkFqcGc@._V1_QL75_UX190_CR0,1,190,281_.jpg'}, {'title': 'MisÃ©rables, Les (1998)', 'cover': 'https://m.media-amazon.com/images/M/MV5BNjg0NTRjNmUtYzdjYi00YTQ5LTgxNGItMTRhNWYwYzBkOTliXkEyXkFqcGdeQXVyNTAyODkwOQ@@._V1_QL75_UX190_CR0,0,190,281_.jpg'}, {'title': 'Hamlet (1996)', 'cover': 'https://m.media-amazon.com/images/M/MV5BNGQ0OGUyMTctNzk4ZS00YmY5LTlmNWYtMWIyZWYwZjRmOWIzXkEyXkFqcGdeQXVyMTU3NDU4MDg2._V1_QL75_UY281_CR1,0,190,281_.jpg'}, {'title': 'Secret Garden, The (1993)', 'cover': 'https://m.media-amazon.com/images/M/MV5BNjgyMGI3OTQtYWFjOS00OGNkLTg4NTktMDI4ZWMwODk5ODU5XkEyXkFqcGc@._V1_QL75_UX190_CR0,1,190,281_.jpg'}, {'title': 'Shadowlands (1993)', 'cover': 'https://m.media-amazon.com/images/M/MV5BODg5NmZkOGQtMmZjYi00M2I0LWI2MzMtMzg5NTZkZDgzMjAzXkEyXkFqcGc@._V1_QL75_UX190_CR0,1,190,281_.jpg'}, {'title': 'Madame Butterfly (1995)', 'cover': 'https://m.media-amazon.com/images/M/MV5BZTA0NTZhOTUtYjZlMC00NjZjLWE4OWQtM2RmZjc0YTcwY2FjXkEyXkFqcGc@._V1_QL75_UY281_CR1,0,190,281_.jpg'}, {'title': 'Joy Luck Club, The (1993)', 'cover': 'https://m.media-amazon.com/images/M/MV5BNGE2YWVjZDYtOGI2Ni00NjUwLWI5ZjgtODA3ZTI5M2NlMmZmXkEyXkFqcGc@._V1_QL75_UX190_CR0,0,190,281_.jpg'}, {'title': 'Horse Whisperer, The (1998)', 'cover': 'https://m.media-amazon.com/images/M/MV5BZTI5YTI5ZmYtZWQ0Ny00YzU4LTg3NmUtYjVmMzQxOGNjYzRjXkEyXkFqcGc@._V1_QL75_UX190_CR0,1,190,281_.jpg'}]}\n"
               ]
            }
         ],
         "source": [
            "movie_title = movie_titles[movie_id]\n",
            "movie_cover = movie_covers[movie_id]\n",
            "# Créer un dictionnaire pour stocker les titres et les couvertures des films recommandés\n",
            "result = {\n",
            "    \"user_choice\": {\"title\": movie_title, \"cover\": movie_cover},\n",
            "    \"recommendations\": [{\"title\": movie_titles[i], \"cover\": movie_covers[i]} for i in similar_movies]}\n",
            "\n",
            "print(result)"
         ]
      },
      {
         "cell_type": "code",
         "execution_count": 19,
         "metadata": {},
         "outputs": [
            {
               "name": "stdout",
               "output_type": "stream",
               "text": [
                  "{'title': 'MisÃ©rables, Les (1995)', 'cover': 'https://m.media-amazon.com/images/M/MV5BNmYyZjA0YmEtNGU5Ni00YzVjLWJkMTAtZmU0NGI2Y2Y3ODQwXkEyXkFqcGc@._V1_QL75_UY281_CR8,0,190,281_.jpg'}\n"
               ]
            }
         ],
         "source": [
            "user_choise = result['user_choice']\n",
            "print(user_choise)"
         ]
      },
      {
         "cell_type": "code",
         "execution_count": 20,
         "metadata": {},
         "outputs": [
            {
               "name": "stdout",
               "output_type": "stream",
               "text": [
                  "MisÃ©rables, Les (1995)\n"
               ]
            }
         ],
         "source": [
            "print(user_choise['title'])"
         ]
      },
      {
         "cell_type": "code",
         "execution_count": 22,
         "metadata": {},
         "outputs": [
            {
               "name": "stdout",
               "output_type": "stream",
               "text": [
                  "[{'title': 'Fly Away Home (1996)', 'cover': 'https://m.media-amazon.com/images/M/MV5BYjQyMzFhYTItODYxYy00MDNmLTgyOGEtNGRmZTg5YzhlNjEyXkEyXkFqcGdeQXVyMjUzOTY1NTc@._V1_QL75_UX190_CR0,1,190,281_.jpg'}, {'title': 'Fried Green Tomatoes (1991)', 'cover': 'https://m.media-amazon.com/images/M/MV5BMzBhMzRkNGItNDFmMy00NjViLWFiYWYtMzAxMzI4YTZmZjRlXkEyXkFqcGc@._V1_QL75_UX190_CR0,1,190,281_.jpg'}, {'title': 'Evita (1996)', 'cover': 'https://m.media-amazon.com/images/M/MV5BODNjMWViYzUtMzk4ZC00NjU4LTlmNjItNzc1ZjRiZGE3Y2E1XkEyXkFqcGc@._V1_QL75_UX190_CR0,1,190,281_.jpg'}, {'title': 'MisÃ©rables, Les (1998)', 'cover': 'https://m.media-amazon.com/images/M/MV5BNjg0NTRjNmUtYzdjYi00YTQ5LTgxNGItMTRhNWYwYzBkOTliXkEyXkFqcGdeQXVyNTAyODkwOQ@@._V1_QL75_UX190_CR0,0,190,281_.jpg'}, {'title': 'Hamlet (1996)', 'cover': 'https://m.media-amazon.com/images/M/MV5BNGQ0OGUyMTctNzk4ZS00YmY5LTlmNWYtMWIyZWYwZjRmOWIzXkEyXkFqcGdeQXVyMTU3NDU4MDg2._V1_QL75_UY281_CR1,0,190,281_.jpg'}, {'title': 'Secret Garden, The (1993)', 'cover': 'https://m.media-amazon.com/images/M/MV5BNjgyMGI3OTQtYWFjOS00OGNkLTg4NTktMDI4ZWMwODk5ODU5XkEyXkFqcGc@._V1_QL75_UX190_CR0,1,190,281_.jpg'}, {'title': 'Shadowlands (1993)', 'cover': 'https://m.media-amazon.com/images/M/MV5BODg5NmZkOGQtMmZjYi00M2I0LWI2MzMtMzg5NTZkZDgzMjAzXkEyXkFqcGc@._V1_QL75_UX190_CR0,1,190,281_.jpg'}, {'title': 'Madame Butterfly (1995)', 'cover': 'https://m.media-amazon.com/images/M/MV5BZTA0NTZhOTUtYjZlMC00NjZjLWE4OWQtM2RmZjc0YTcwY2FjXkEyXkFqcGc@._V1_QL75_UY281_CR1,0,190,281_.jpg'}, {'title': 'Joy Luck Club, The (1993)', 'cover': 'https://m.media-amazon.com/images/M/MV5BNGE2YWVjZDYtOGI2Ni00NjUwLWI5ZjgtODA3ZTI5M2NlMmZmXkEyXkFqcGc@._V1_QL75_UX190_CR0,0,190,281_.jpg'}, {'title': 'Horse Whisperer, The (1998)', 'cover': 'https://m.media-amazon.com/images/M/MV5BZTI5YTI5ZmYtZWQ0Ny00YzU4LTg3NmUtYjVmMzQxOGNjYzRjXkEyXkFqcGc@._V1_QL75_UX190_CR0,1,190,281_.jpg'}]\n"
               ]
            }
         ],
         "source": [
            "recommended_movies = result['recommendations']\n",
            "print(recommended_movies)"
         ]
      },
      {
         "cell_type": "code",
         "execution_count": 23,
         "metadata": {},
         "outputs": [
            {
               "name": "stdout",
               "output_type": "stream",
               "text": [
                  "Fly Away Home (1996)\n",
                  "Fried Green Tomatoes (1991)\n",
                  "Evita (1996)\n",
                  "MisÃ©rables, Les (1998)\n",
                  "Hamlet (1996)\n",
                  "Secret Garden, The (1993)\n",
                  "Shadowlands (1993)\n",
                  "Madame Butterfly (1995)\n",
                  "Joy Luck Club, The (1993)\n",
                  "Horse Whisperer, The (1998)\n"
               ]
            }
         ],
         "source": [
            "for i, movie in enumerate(recommended_movies):\n",
            "    print(movie['title'])"
         ]
      },
      {
         "cell_type": "code",
         "execution_count": 24,
         "metadata": {},
         "outputs": [],
         "source": [
            "similar_movies = get_content_based_recommendations(movie_title, n_recommendations=10)"
         ]
      },
      {
         "cell_type": "code",
         "execution_count": 25,
         "metadata": {},
         "outputs": [
            {
               "name": "stdout",
               "output_type": "stream",
               "text": [
                  "[72, 212, 332, 523, 625, 747, 961, 1068, 1138, 1155]\n"
               ]
            }
         ],
         "source": [
            "print(similar_movies)"
         ]
      },
      {
         "cell_type": "code",
         "execution_count": 26,
         "metadata": {},
         "outputs": [],
         "source": [
            "movie_title = movie_titles[movie_id]\n",
            "movie_cover = movie_covers[movie_id]"
         ]
      },
      {
         "cell_type": "code",
         "execution_count": 27,
         "metadata": {},
         "outputs": [],
         "source": [
            "result = {\n",
            "        \"user_choice\": {\"title\": movie_title, \"cover\": movie_cover},\n",
            "        \"recommendations\": [{\"title\": movie_titles[i], \"cover\": movie_covers[i]} for i in similar_movies]\n",
            "    }"
         ]
      },
      {
         "cell_type": "code",
         "execution_count": 28,
         "metadata": {},
         "outputs": [
            {
               "name": "stdout",
               "output_type": "stream",
               "text": [
                  "{'title': 'MisÃ©rables, Les (1995)', 'cover': 'https://m.media-amazon.com/images/M/MV5BNmYyZjA0YmEtNGU5Ni00YzVjLWJkMTAtZmU0NGI2Y2Y3ODQwXkEyXkFqcGc@._V1_QL75_UY281_CR8,0,190,281_.jpg'}\n"
               ]
            }
         ],
         "source": [
            "user_choice = result['user_choice']\n",
            "print(user_choice)"
         ]
      },
      {
         "cell_type": "code",
         "execution_count": 29,
         "metadata": {},
         "outputs": [
            {
               "name": "stdout",
               "output_type": "stream",
               "text": [
                  "Kicking and Screaming (1995)\n",
                  "Bushwhacked (1995)\n",
                  "Village of the Damned (1995)\n",
                  "Ruby in Paradise (1993)\n",
                  "Asfour Stah (1990)\n",
                  "Stupids, The (1996)\n",
                  "Little Lord Fauntleroy (1936)\n",
                  "Crossfire (1947)\n",
                  "Dadetown (1995)\n",
                  "Invitation, The (Zaproszenie) (1986)\n"
               ]
            }
         ],
         "source": [
            "\n",
            "recommended_movies = result['recommendations']\n",
            "for i, movie in enumerate(recommended_movies):\n",
            "    print(movie['title'])"
         ]
      },
      {
         "cell_type": "code",
         "execution_count": null,
         "metadata": {},
         "outputs": [],
         "source": []
      }
   ],
   "metadata": {
      "kernelspec": {
         "display_name": "reco_movies",
         "language": "python",
         "name": "python3"
      },
      "language_info": {
         "codemirror_mode": {
            "name": "ipython",
            "version": 3
         },
         "file_extension": ".py",
         "mimetype": "text/x-python",
         "name": "python",
         "nbconvert_exporter": "python",
         "pygments_lexer": "ipython3",
         "version": "3.12.2"
      }
   },
   "nbformat": 4,
   "nbformat_minor": 2
}
