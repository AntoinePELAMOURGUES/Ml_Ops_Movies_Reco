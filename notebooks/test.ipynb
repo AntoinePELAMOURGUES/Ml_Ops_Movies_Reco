{
   "cells": [
      {
         "cell_type": "code",
         "execution_count": 1,
         "metadata": {},
         "outputs": [],
         "source": [
            "import pandas as pd\n",
            "import os\n",
            "from sklearn.preprocessing import LabelEncoder, MultiLabelBinarizer\n"
         ]
      },
      {
         "cell_type": "code",
         "execution_count": 2,
         "metadata": {},
         "outputs": [],
         "source": [
            "def read_ratings(ratings_csv: str, data_dir: str = \"/home/antoine/Ml_Ops_Movies_Reco/app/shared_volume/raw\") -> pd.DataFrame:\n",
            "    \"\"\"\n",
            "    Lit le fichier CSV contenant les évaluations des films.\n",
            "\n",
            "    :param ratings_csv: Nom du fichier CSV contenant les évaluations.\n",
            "    :param data_dir: Répertoire où se trouve le fichier CSV.\n",
            "    :return: DataFrame contenant les évaluations.\n",
            "    \"\"\"\n",
            "    data = pd.read_csv(os.path.join(data_dir, ratings_csv))\n",
            "    print(\"Dataset ratings chargé\")\n",
            "    return data\n",
            "\n",
            "def read_movies(movies_csv: str, data_dir: str = \"/home/antoine/Ml_Ops_Movies_Reco/app/shared_volume/raw\") -> pd.DataFrame:\n",
            "    \"\"\"\n",
            "    Lit le fichier CSV contenant les informations sur les films.\n",
            "\n",
            "    :param movies_csv: Nom du fichier CSV contenant les informations sur les films.\n",
            "    :param data_dir: Répertoire où se trouve le fichier CSV.\n",
            "    :return: DataFrame contenant les informations sur les films.\n",
            "    \"\"\"\n",
            "    df = pd.read_csv(os.path.join(data_dir, movies_csv))\n",
            "    print(\"Dataset movies chargé\")\n",
            "    return df\n",
            "\n",
            "def read_links(links_csv: str, data_dir: str = \"/home/antoine/Ml_Ops_Movies_Reco/app/shared_volume/raw\") -> pd.DataFrame:\n",
            "    \"\"\"\n",
            "    Lit le fichier CSV contenant les informations sur les liens des affiches scrappés.\n",
            "\n",
            "    :param links_csv: Nom du fichier CSV contenant les liens des affiches.\n",
            "    :param data_dir: Répertoire où se trouve le fichier CSV.\n",
            "    :return: DataFrame contenant movieId et lien vers les affiches.\n",
            "    \"\"\"\n",
            "    df = pd.read_csv(os.path.join(data_dir, links_csv))\n",
            "    df = df[['movieId', 'cover_link']]\n",
            "    print(\"Dataset links chargé\")\n",
            "    return df"
         ]
      },
      {
         "cell_type": "code",
         "execution_count": 3,
         "metadata": {},
         "outputs": [
            {
               "name": "stdout",
               "output_type": "stream",
               "text": [
                  "Dataset ratings chargé\n",
                  "Dataset movies chargé\n",
                  "Dataset links chargé\n"
               ]
            }
         ],
         "source": [
            "# Chargement des données\n",
            "ratings = read_ratings('ratings.csv')\n",
            "movies = read_movies('movies.csv')\n",
            "links = read_links('links2.csv')"
         ]
      },
      {
         "cell_type": "code",
         "execution_count": 4,
         "metadata": {},
         "outputs": [
            {
               "data": {
                  "text/html": [
                     "<div>\n",
                     "<style scoped>\n",
                     "    .dataframe tbody tr th:only-of-type {\n",
                     "        vertical-align: middle;\n",
                     "    }\n",
                     "\n",
                     "    .dataframe tbody tr th {\n",
                     "        vertical-align: top;\n",
                     "    }\n",
                     "\n",
                     "    .dataframe thead th {\n",
                     "        text-align: right;\n",
                     "    }\n",
                     "</style>\n",
                     "<table border=\"1\" class=\"dataframe\">\n",
                     "  <thead>\n",
                     "    <tr style=\"text-align: right;\">\n",
                     "      <th></th>\n",
                     "      <th>userId</th>\n",
                     "      <th>movieId</th>\n",
                     "      <th>rating</th>\n",
                     "      <th>timestamp</th>\n",
                     "    </tr>\n",
                     "  </thead>\n",
                     "  <tbody>\n",
                     "    <tr>\n",
                     "      <th>0</th>\n",
                     "      <td>1</td>\n",
                     "      <td>2</td>\n",
                     "      <td>3.5</td>\n",
                     "      <td>1112486027</td>\n",
                     "    </tr>\n",
                     "    <tr>\n",
                     "      <th>1</th>\n",
                     "      <td>1</td>\n",
                     "      <td>29</td>\n",
                     "      <td>3.5</td>\n",
                     "      <td>1112484676</td>\n",
                     "    </tr>\n",
                     "    <tr>\n",
                     "      <th>2</th>\n",
                     "      <td>1</td>\n",
                     "      <td>32</td>\n",
                     "      <td>3.5</td>\n",
                     "      <td>1112484819</td>\n",
                     "    </tr>\n",
                     "    <tr>\n",
                     "      <th>3</th>\n",
                     "      <td>1</td>\n",
                     "      <td>47</td>\n",
                     "      <td>3.5</td>\n",
                     "      <td>1112484727</td>\n",
                     "    </tr>\n",
                     "    <tr>\n",
                     "      <th>4</th>\n",
                     "      <td>1</td>\n",
                     "      <td>50</td>\n",
                     "      <td>3.5</td>\n",
                     "      <td>1112484580</td>\n",
                     "    </tr>\n",
                     "  </tbody>\n",
                     "</table>\n",
                     "</div>"
                  ],
                  "text/plain": [
                     "   userId  movieId  rating   timestamp\n",
                     "0       1        2     3.5  1112486027\n",
                     "1       1       29     3.5  1112484676\n",
                     "2       1       32     3.5  1112484819\n",
                     "3       1       47     3.5  1112484727\n",
                     "4       1       50     3.5  1112484580"
                  ]
               },
               "execution_count": 4,
               "metadata": {},
               "output_type": "execute_result"
            }
         ],
         "source": [
            "ratings.head()"
         ]
      },
      {
         "cell_type": "code",
         "execution_count": 5,
         "metadata": {},
         "outputs": [
            {
               "data": {
                  "text/html": [
                     "<div>\n",
                     "<style scoped>\n",
                     "    .dataframe tbody tr th:only-of-type {\n",
                     "        vertical-align: middle;\n",
                     "    }\n",
                     "\n",
                     "    .dataframe tbody tr th {\n",
                     "        vertical-align: top;\n",
                     "    }\n",
                     "\n",
                     "    .dataframe thead th {\n",
                     "        text-align: right;\n",
                     "    }\n",
                     "</style>\n",
                     "<table border=\"1\" class=\"dataframe\">\n",
                     "  <thead>\n",
                     "    <tr style=\"text-align: right;\">\n",
                     "      <th></th>\n",
                     "      <th>movieId</th>\n",
                     "      <th>title</th>\n",
                     "      <th>genres</th>\n",
                     "    </tr>\n",
                     "  </thead>\n",
                     "  <tbody>\n",
                     "    <tr>\n",
                     "      <th>0</th>\n",
                     "      <td>1</td>\n",
                     "      <td>Toy Story (1995)</td>\n",
                     "      <td>Adventure|Animation|Children|Comedy|Fantasy</td>\n",
                     "    </tr>\n",
                     "    <tr>\n",
                     "      <th>1</th>\n",
                     "      <td>2</td>\n",
                     "      <td>Jumanji (1995)</td>\n",
                     "      <td>Adventure|Children|Fantasy</td>\n",
                     "    </tr>\n",
                     "    <tr>\n",
                     "      <th>2</th>\n",
                     "      <td>3</td>\n",
                     "      <td>Grumpier Old Men (1995)</td>\n",
                     "      <td>Comedy|Romance</td>\n",
                     "    </tr>\n",
                     "    <tr>\n",
                     "      <th>3</th>\n",
                     "      <td>4</td>\n",
                     "      <td>Waiting to Exhale (1995)</td>\n",
                     "      <td>Comedy|Drama|Romance</td>\n",
                     "    </tr>\n",
                     "    <tr>\n",
                     "      <th>4</th>\n",
                     "      <td>5</td>\n",
                     "      <td>Father of the Bride Part II (1995)</td>\n",
                     "      <td>Comedy</td>\n",
                     "    </tr>\n",
                     "  </tbody>\n",
                     "</table>\n",
                     "</div>"
                  ],
                  "text/plain": [
                     "   movieId                               title  \\\n",
                     "0        1                    Toy Story (1995)   \n",
                     "1        2                      Jumanji (1995)   \n",
                     "2        3             Grumpier Old Men (1995)   \n",
                     "3        4            Waiting to Exhale (1995)   \n",
                     "4        5  Father of the Bride Part II (1995)   \n",
                     "\n",
                     "                                        genres  \n",
                     "0  Adventure|Animation|Children|Comedy|Fantasy  \n",
                     "1                   Adventure|Children|Fantasy  \n",
                     "2                               Comedy|Romance  \n",
                     "3                         Comedy|Drama|Romance  \n",
                     "4                                       Comedy  "
                  ]
               },
               "execution_count": 5,
               "metadata": {},
               "output_type": "execute_result"
            }
         ],
         "source": [
            "movies.head()"
         ]
      },
      {
         "cell_type": "code",
         "execution_count": 6,
         "metadata": {},
         "outputs": [
            {
               "data": {
                  "text/html": [
                     "<div>\n",
                     "<style scoped>\n",
                     "    .dataframe tbody tr th:only-of-type {\n",
                     "        vertical-align: middle;\n",
                     "    }\n",
                     "\n",
                     "    .dataframe tbody tr th {\n",
                     "        vertical-align: top;\n",
                     "    }\n",
                     "\n",
                     "    .dataframe thead th {\n",
                     "        text-align: right;\n",
                     "    }\n",
                     "</style>\n",
                     "<table border=\"1\" class=\"dataframe\">\n",
                     "  <thead>\n",
                     "    <tr style=\"text-align: right;\">\n",
                     "      <th></th>\n",
                     "      <th>movieId</th>\n",
                     "      <th>cover_link</th>\n",
                     "    </tr>\n",
                     "  </thead>\n",
                     "  <tbody>\n",
                     "    <tr>\n",
                     "      <th>0</th>\n",
                     "      <td>1</td>\n",
                     "      <td>https://m.media-amazon.com/images/M/MV5BMDU2ZW...</td>\n",
                     "    </tr>\n",
                     "    <tr>\n",
                     "      <th>1</th>\n",
                     "      <td>2</td>\n",
                     "      <td>https://m.media-amazon.com/images/M/MV5BZTk2Zm...</td>\n",
                     "    </tr>\n",
                     "    <tr>\n",
                     "      <th>2</th>\n",
                     "      <td>3</td>\n",
                     "      <td>https://m.media-amazon.com/images/M/MV5BMDkwYT...</td>\n",
                     "    </tr>\n",
                     "    <tr>\n",
                     "      <th>3</th>\n",
                     "      <td>4</td>\n",
                     "      <td>https://m.media-amazon.com/images/M/MV5BZWU4Nz...</td>\n",
                     "    </tr>\n",
                     "    <tr>\n",
                     "      <th>4</th>\n",
                     "      <td>5</td>\n",
                     "      <td>https://m.media-amazon.com/images/M/MV5BOTMwNz...</td>\n",
                     "    </tr>\n",
                     "  </tbody>\n",
                     "</table>\n",
                     "</div>"
                  ],
                  "text/plain": [
                     "   movieId                                         cover_link\n",
                     "0        1  https://m.media-amazon.com/images/M/MV5BMDU2ZW...\n",
                     "1        2  https://m.media-amazon.com/images/M/MV5BZTk2Zm...\n",
                     "2        3  https://m.media-amazon.com/images/M/MV5BMDkwYT...\n",
                     "3        4  https://m.media-amazon.com/images/M/MV5BZWU4Nz...\n",
                     "4        5  https://m.media-amazon.com/images/M/MV5BOTMwNz..."
                  ]
               },
               "execution_count": 6,
               "metadata": {},
               "output_type": "execute_result"
            }
         ],
         "source": [
            "links.head()"
         ]
      },
      {
         "cell_type": "code",
         "execution_count": 8,
         "metadata": {},
         "outputs": [
            {
               "data": {
                  "text/html": [
                     "<div>\n",
                     "<style scoped>\n",
                     "    .dataframe tbody tr th:only-of-type {\n",
                     "        vertical-align: middle;\n",
                     "    }\n",
                     "\n",
                     "    .dataframe tbody tr th {\n",
                     "        vertical-align: top;\n",
                     "    }\n",
                     "\n",
                     "    .dataframe thead th {\n",
                     "        text-align: right;\n",
                     "    }\n",
                     "</style>\n",
                     "<table border=\"1\" class=\"dataframe\">\n",
                     "  <thead>\n",
                     "    <tr style=\"text-align: right;\">\n",
                     "      <th></th>\n",
                     "      <th>userId</th>\n",
                     "      <th>movieId</th>\n",
                     "      <th>rating</th>\n",
                     "      <th>title</th>\n",
                     "      <th>cover_link</th>\n",
                     "    </tr>\n",
                     "  </thead>\n",
                     "  <tbody>\n",
                     "    <tr>\n",
                     "      <th>0</th>\n",
                     "      <td>1</td>\n",
                     "      <td>2</td>\n",
                     "      <td>3.5</td>\n",
                     "      <td>Jumanji (1995)</td>\n",
                     "      <td>https://m.media-amazon.com/images/M/MV5BZTk2Zm...</td>\n",
                     "    </tr>\n",
                     "    <tr>\n",
                     "      <th>1</th>\n",
                     "      <td>1</td>\n",
                     "      <td>29</td>\n",
                     "      <td>3.5</td>\n",
                     "      <td>City of Lost Children, The (CitÃ© des enfants ...</td>\n",
                     "      <td>https://m.media-amazon.com/images/M/MV5BYjBlOG...</td>\n",
                     "    </tr>\n",
                     "    <tr>\n",
                     "      <th>2</th>\n",
                     "      <td>1</td>\n",
                     "      <td>32</td>\n",
                     "      <td>3.5</td>\n",
                     "      <td>Twelve Monkeys (a.k.a. 12 Monkeys) (1995)</td>\n",
                     "      <td>https://m.media-amazon.com/images/M/MV5BN2Y2OW...</td>\n",
                     "    </tr>\n",
                     "    <tr>\n",
                     "      <th>3</th>\n",
                     "      <td>1</td>\n",
                     "      <td>47</td>\n",
                     "      <td>3.5</td>\n",
                     "      <td>Seven (a.k.a. Se7en) (1995)</td>\n",
                     "      <td>https://m.media-amazon.com/images/M/MV5BOTUwOD...</td>\n",
                     "    </tr>\n",
                     "    <tr>\n",
                     "      <th>4</th>\n",
                     "      <td>1</td>\n",
                     "      <td>50</td>\n",
                     "      <td>3.5</td>\n",
                     "      <td>Usual Suspects, The (1995)</td>\n",
                     "      <td>https://m.media-amazon.com/images/M/MV5BYTViNj...</td>\n",
                     "    </tr>\n",
                     "  </tbody>\n",
                     "</table>\n",
                     "</div>"
                  ],
                  "text/plain": [
                     "   userId  movieId  rating                                              title  \\\n",
                     "0       1        2     3.5                                     Jumanji (1995)   \n",
                     "1       1       29     3.5  City of Lost Children, The (CitÃ© des enfants ...   \n",
                     "2       1       32     3.5          Twelve Monkeys (a.k.a. 12 Monkeys) (1995)   \n",
                     "3       1       47     3.5                        Seven (a.k.a. Se7en) (1995)   \n",
                     "4       1       50     3.5                         Usual Suspects, The (1995)   \n",
                     "\n",
                     "                                          cover_link  \n",
                     "0  https://m.media-amazon.com/images/M/MV5BZTk2Zm...  \n",
                     "1  https://m.media-amazon.com/images/M/MV5BYjBlOG...  \n",
                     "2  https://m.media-amazon.com/images/M/MV5BN2Y2OW...  \n",
                     "3  https://m.media-amazon.com/images/M/MV5BOTUwOD...  \n",
                     "4  https://m.media-amazon.com/images/M/MV5BYTViNj...  "
                  ]
               },
               "execution_count": 8,
               "metadata": {},
               "output_type": "execute_result"
            }
         ],
         "source": [
            "new_df = ratings[['userId', 'movieId', 'rating']].merge(movies[['movieId', 'title']], on = 'movieId', how = 'left')\n",
            "\n",
            "new_df = new_df.merge(links, on = 'movieId', how = 'left')\n",
            "\n",
            "new_df.head()"
         ]
      },
      {
         "cell_type": "code",
         "execution_count": 18,
         "metadata": {},
         "outputs": [
            {
               "data": {
                  "text/plain": [
                     "170                                        Freaks (1932)\n",
                     "131    Lord of the Rings: The Fellowship of the Ring,...\n",
                     "142        Lord of the Rings: The Two Towers, The (2002)\n",
                     "158    Lord of the Rings: The Return of the King, The...\n",
                     "30     Star Wars: Episode V - The Empire Strikes Back...\n",
                     "Name: title, dtype: object"
                  ]
               },
               "execution_count": 18,
               "metadata": {},
               "output_type": "execute_result"
            }
         ],
         "source": [
            "# Filtrer le DataFrame pour l'utilisateur avec userId égal à 1 et trier par la colonne 'rating'\n",
            "sorted_df = (new_df[new_df['userId'] == 1].sort_values(by='rating', ascending=False))['title'][:5]\n",
            "\n",
            "sorted_df.head(10)"
         ]
      },
      {
         "cell_type": "code",
         "execution_count": 19,
         "metadata": {},
         "outputs": [],
         "source": [
            "def best_user_movies(user_id, n =5):\n",
            "    new_df = ratings[['userId', 'movieId', 'rating']].merge(movies[['movieId', 'title']], on = 'movieId', how = 'left')\n",
            "    new_df = new_df.merge(links, on = 'movieId', how = 'left')\n",
            "    top_user_movies = (new_df[new_df['userId'] == user_id].sort_values(by='rating', ascending=False))[:n]\n",
            "    top_title = list(top_user_movies['title'])\n",
            "    top_cover = list(top_user_movies['cover_link'])\n",
            "    return top_title, top_cover\n",
            "\n"
         ]
      },
      {
         "cell_type": "code",
         "execution_count": 20,
         "metadata": {},
         "outputs": [
            {
               "name": "stdout",
               "output_type": "stream",
               "text": [
                  "['Time Machine, The (1960)', 'Star Wars: Episode V - The Empire Strikes Back (1980)', 'Friday the 13th (1980)', 'Grumpy Old Men (1993)', \"Mr. Holland's Opus (1995)\"]\n",
                  "['https://m.media-amazon.com/images/M/MV5BYzEwNGJiY2EtYTZmYi00NjZhLWEwZmUtMjc0MTJlODgzZmY4XkEyXkFqcGdeQXVyMDI2NDg0NQ@@._V1_QL75_UX190_CR0,4,190,281_.jpg', 'https://m.media-amazon.com/images/M/MV5BYmU1NDRjNDgtMzhiMi00NjZmLTg5NGItZDNiZjU5NTU4OTE0XkEyXkFqcGdeQXVyNzkwMjQ5NzM@._V1_QL75_UX190_CR0,7,190,281_.jpg', 'https://m.media-amazon.com/images/M/MV5BNWMxYTYzYWQtNGZmNy00MTg5LTk1N2MtNzQ5NjQxYjQ5NTJhXkEyXkFqcGdeQXVyMTQxNzMzNDI@._V1_QL75_UX190_CR0,1,190,281_.jpg', 'https://m.media-amazon.com/images/M/MV5BMzM1YjNiNDYtODRiOC00ZWM2LTk1MTItNjI5MjA5ZjEwYjAzXkEyXkFqcGc@._V1_QL75_UX190_CR0,2,190,281_.jpg', 'https://m.media-amazon.com/images/M/MV5BZGJkOTFkYjEtNzg5Zi00NWIyLTkyN2QtMDExNjk1NTg1NTQ1XkEyXkFqcGc@._V1_QL75_UX190_CR0,1,190,281_.jpg']\n"
               ]
            }
         ],
         "source": [
            "\n",
            "top_title = best_user_movies(2)[0]\n",
            "top_cover = best_user_movies(2)[1]\n",
            "\n",
            "print(top_title)\n",
            "print(top_cover)"
         ]
      },
      {
         "cell_type": "code",
         "execution_count": 21,
         "metadata": {},
         "outputs": [
            {
               "name": "stdout",
               "output_type": "stream",
               "text": [
                  "{'best_user_movies0': {'user_best_tite': 'Time Machine, The (1960)', 'user_best_cover': 'https://m.media-amazon.com/images/M/MV5BYzEwNGJiY2EtYTZmYi00NjZhLWEwZmUtMjc0MTJlODgzZmY4XkEyXkFqcGdeQXVyMDI2NDg0NQ@@._V1_QL75_UX190_CR0,4,190,281_.jpg'}, 'best_user_movies1': {'user_best_tite': 'Star Wars: Episode V - The Empire Strikes Back (1980)', 'user_best_cover': 'https://m.media-amazon.com/images/M/MV5BYmU1NDRjNDgtMzhiMi00NjZmLTg5NGItZDNiZjU5NTU4OTE0XkEyXkFqcGdeQXVyNzkwMjQ5NzM@._V1_QL75_UX190_CR0,7,190,281_.jpg'}, 'best_user_movies2': {'user_best_tite': 'Friday the 13th (1980)', 'user_best_cover': 'https://m.media-amazon.com/images/M/MV5BNWMxYTYzYWQtNGZmNy00MTg5LTk1N2MtNzQ5NjQxYjQ5NTJhXkEyXkFqcGdeQXVyMTQxNzMzNDI@._V1_QL75_UX190_CR0,1,190,281_.jpg'}, 'best_user_movies3': {'user_best_tite': 'Grumpy Old Men (1993)', 'user_best_cover': 'https://m.media-amazon.com/images/M/MV5BMzM1YjNiNDYtODRiOC00ZWM2LTk1MTItNjI5MjA5ZjEwYjAzXkEyXkFqcGc@._V1_QL75_UX190_CR0,2,190,281_.jpg'}, 'best_user_movies4': {'user_best_tite': \"Mr. Holland's Opus (1995)\", 'user_best_cover': 'https://m.media-amazon.com/images/M/MV5BZGJkOTFkYjEtNzg5Zi00NWIyLTkyN2QtMDExNjk1NTg1NTQ1XkEyXkFqcGc@._V1_QL75_UX190_CR0,1,190,281_.jpg'}}\n"
               ]
            }
         ],
         "source": [
            "result = {\n",
            "    str(f\"best_user_movies_{i}\") : {\n",
            "        \"user_best_tite\": title,\n",
            "        \"user_best_cover\":cover }\n",
            "        for i, (title, cover) in enumerate(zip(top_title, top_cover))}\n",
            "\n",
            "print(result)"
         ]
      },
      {
         "cell_type": "code",
         "execution_count": null,
         "metadata": {},
         "outputs": [],
         "source": []
      }
   ],
   "metadata": {
      "kernelspec": {
         "display_name": "reco_movies",
         "language": "python",
         "name": "python3"
      },
      "language_info": {
         "codemirror_mode": {
            "name": "ipython",
            "version": 3
         },
         "file_extension": ".py",
         "mimetype": "text/x-python",
         "name": "python",
         "nbconvert_exporter": "python",
         "pygments_lexer": "ipython3",
         "version": "3.12.2"
      }
   },
   "nbformat": 4,
   "nbformat_minor": 2
}