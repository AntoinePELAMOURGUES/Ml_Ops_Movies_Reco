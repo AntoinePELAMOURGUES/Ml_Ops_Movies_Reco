{
 "cells": [
  {
   "cell_type": "code",
   "execution_count": 3,
   "metadata": {},
   "outputs": [],
   "source": [
    "import pandas as pd\n",
    "import os\n",
    "from skimpy import skim\n",
    "import seaborn as sns\n",
    "import matplotlib.pyplot as plt\n",
    "import numpy as np"
   ]
  },
  {
   "cell_type": "code",
   "execution_count": 4,
   "metadata": {},
   "outputs": [],
   "source": [
    "def read_ratings(ratings_csv: str, data_dir: str = \"/home/antoine/Ml_Ops_Movies_Reco/src/data/data/raw\") -> pd.DataFrame:\n",
    "    \"\"\"\n",
    "    Lit le fichier CSV contenant les évaluations des films.\n",
    "\n",
    "    :param ratings_csv: Nom du fichier CSV contenant les évaluations.\n",
    "    :param data_dir: Répertoire où se trouve le fichier CSV.\n",
    "    :return: DataFrame contenant les évaluations.\n",
    "    \"\"\"\n",
    "    data = pd.read_csv(os.path.join(data_dir, ratings_csv))\n",
    "    print(\"Dataset ratings chargé\")\n",
    "    return data\n",
    "\n",
    "def read_movies(movies_csv: str, data_dir: str = \"/home/antoine/Ml_Ops_Movies_Reco/src/data/data/raw\") -> pd.DataFrame:\n",
    "    \"\"\"\n",
    "    Lit le fichier CSV contenant les informations sur les films.\n",
    "\n",
    "    :param movies_csv: Nom du fichier CSV contenant les informations sur les films.\n",
    "    :param data_dir: Répertoire où se trouve le fichier CSV.\n",
    "    :return: DataFrame contenant les informations sur les films.\n",
    "    \"\"\"\n",
    "    df = pd.read_csv(os.path.join(data_dir, movies_csv))\n",
    "    print(\"Dataset movies chargé\")\n",
    "    return df"
   ]
  },
  {
   "cell_type": "markdown",
   "metadata": {},
   "source": [
    "L'ensemble de données des films doit être nettoyé de deux manières :\n",
    "- les genres sont exprimés sous forme de chaîne avec un pipe\n",
    "- le titre contient actuellement (année) ajouté à la fin. Nous allons extraire l'année de chaque chaîne de titre et créer une nouvelle colonne pour celle-ci."
   ]
  },
  {
   "cell_type": "code",
   "execution_count": 5,
   "metadata": {},
   "outputs": [
    {
     "name": "stdout",
     "output_type": "stream",
     "text": [
      "Dataset movies chargé\n"
     ]
    },
    {
     "data": {
      "text/html": [
       "<div>\n",
       "<style scoped>\n",
       "    .dataframe tbody tr th:only-of-type {\n",
       "        vertical-align: middle;\n",
       "    }\n",
       "\n",
       "    .dataframe tbody tr th {\n",
       "        vertical-align: top;\n",
       "    }\n",
       "\n",
       "    .dataframe thead th {\n",
       "        text-align: right;\n",
       "    }\n",
       "</style>\n",
       "<table border=\"1\" class=\"dataframe\">\n",
       "  <thead>\n",
       "    <tr style=\"text-align: right;\">\n",
       "      <th></th>\n",
       "      <th>movieId</th>\n",
       "      <th>title</th>\n",
       "      <th>genres</th>\n",
       "    </tr>\n",
       "  </thead>\n",
       "  <tbody>\n",
       "    <tr>\n",
       "      <th>0</th>\n",
       "      <td>1</td>\n",
       "      <td>Toy Story (1995)</td>\n",
       "      <td>[Adventure, Animation, Children, Comedy, Fantasy]</td>\n",
       "    </tr>\n",
       "    <tr>\n",
       "      <th>1</th>\n",
       "      <td>2</td>\n",
       "      <td>Jumanji (1995)</td>\n",
       "      <td>[Adventure, Children, Fantasy]</td>\n",
       "    </tr>\n",
       "    <tr>\n",
       "      <th>2</th>\n",
       "      <td>3</td>\n",
       "      <td>Grumpier Old Men (1995)</td>\n",
       "      <td>[Comedy, Romance]</td>\n",
       "    </tr>\n",
       "    <tr>\n",
       "      <th>3</th>\n",
       "      <td>4</td>\n",
       "      <td>Waiting to Exhale (1995)</td>\n",
       "      <td>[Comedy, Drama, Romance]</td>\n",
       "    </tr>\n",
       "    <tr>\n",
       "      <th>4</th>\n",
       "      <td>5</td>\n",
       "      <td>Father of the Bride Part II (1995)</td>\n",
       "      <td>[Comedy]</td>\n",
       "    </tr>\n",
       "  </tbody>\n",
       "</table>\n",
       "</div>"
      ],
      "text/plain": [
       "   movieId                               title  \\\n",
       "0        1                    Toy Story (1995)   \n",
       "1        2                      Jumanji (1995)   \n",
       "2        3             Grumpier Old Men (1995)   \n",
       "3        4            Waiting to Exhale (1995)   \n",
       "4        5  Father of the Bride Part II (1995)   \n",
       "\n",
       "                                              genres  \n",
       "0  [Adventure, Animation, Children, Comedy, Fantasy]  \n",
       "1                     [Adventure, Children, Fantasy]  \n",
       "2                                  [Comedy, Romance]  \n",
       "3                           [Comedy, Drama, Romance]  \n",
       "4                                           [Comedy]  "
      ]
     },
     "execution_count": 5,
     "metadata": {},
     "output_type": "execute_result"
    }
   ],
   "source": [
    "movies = read_movies('movies.csv')\n",
    "# Split sur les pipes\n",
    "movies['genres'] = movies['genres'].apply(lambda x: x.split(\"|\"))\n",
    "movies.head()"
   ]
  },
  {
   "cell_type": "code",
   "execution_count": 4,
   "metadata": {},
   "outputs": [
    {
     "name": "stdout",
     "output_type": "stream",
     "text": [
      "Il y a  20 genres.\n"
     ]
    },
    {
     "data": {
      "text/plain": [
       "Counter({'Drama': 13344,\n",
       "         'Comedy': 8374,\n",
       "         'Thriller': 4178,\n",
       "         'Romance': 4127,\n",
       "         'Action': 3520,\n",
       "         'Crime': 2939,\n",
       "         'Horror': 2611,\n",
       "         'Documentary': 2471,\n",
       "         'Adventure': 2329,\n",
       "         'Sci-Fi': 1743,\n",
       "         'Mystery': 1514,\n",
       "         'Fantasy': 1412,\n",
       "         'War': 1194,\n",
       "         'Children': 1139,\n",
       "         'Musical': 1036,\n",
       "         'Animation': 1027,\n",
       "         'Western': 676,\n",
       "         'Film-Noir': 330,\n",
       "         '(no genres listed)': 246,\n",
       "         'IMAX': 196})"
      ]
     },
     "execution_count": 4,
     "metadata": {},
     "output_type": "execute_result"
    }
   ],
   "source": [
    "# Calcul du nombre de genres\n",
    "from collections import Counter\n",
    "\n",
    "genre_frequency = Counter(g for genres in movies['genres'] for g in genres)\n",
    "\n",
    "print(f\"Il y a  {len(genre_frequency)} genres.\")\n",
    "\n",
    "genre_frequency"
   ]
  },
  {
   "cell_type": "code",
   "execution_count": 5,
   "metadata": {},
   "outputs": [
    {
     "name": "stdout",
     "output_type": "stream",
     "text": [
      "Les 5 genres les plus représentés sont : \n",
      " [('Drama', 13344), ('Comedy', 8374), ('Thriller', 4178), ('Romance', 4127), ('Action', 3520)]\n"
     ]
    }
   ],
   "source": [
    "# Genres les plus représentés:\n",
    "print(\"Les 5 genres les plus représentés sont : \\n\", genre_frequency.most_common(5))"
   ]
  },
  {
   "cell_type": "code",
   "execution_count": 7,
   "metadata": {},
   "outputs": [
    {
     "name": "stderr",
     "output_type": "stream",
     "text": [
      "/tmp/ipykernel_26525/3865811001.py:4: FutureWarning: \n",
      "\n",
      "Passing `palette` without assigning `hue` is deprecated and will be removed in v0.14.0. Assign the `x` variable to `hue` and set `legend=False` for the same effect.\n",
      "\n",
      "  sns.barplot(x='genre', y='count', data=genre_frequency_df.sort_values(by='count', ascending=False), palette='viridis')\n"
     ]
    },
    {
     "data": {
      "image/png": "[encoded data removed]",
      "text/plain": [
       "<Figure size 640x480 with 1 Axes>"
      ]
     },
     "metadata": {},
     "output_type": "display_data"
    }
   ],
   "source": [
    "genre_frequency_df = pd.DataFrame([genre_frequency]).T.reset_index()\n",
    "genre_frequency_df.columns = ['genre', 'count']\n",
    "\n",
    "sns.barplot(x='genre', y='count', data=genre_frequency_df.sort_values(by='count', ascending=False), palette='viridis')\n",
    "plt.xticks(rotation=90)\n",
    "plt.title(\"Représentation des genres\")\n",
    "plt.show()"
   ]
  },
  {
   "cell_type": "markdown",
   "metadata": {},
   "source": [
    "Nous allons utiliser une technique appelée filtrage collaboratif pour générer des recommandations pour les utilisateurs. Cette technique repose sur le principe selon lequel des personnes similaires aiment des choses similaires. La première étape consiste à transformer nos données en une matrice utilisateur-élément, également appelée matrice « utilitaire ». Dans cette matrice, les lignes représentent les utilisateurs et les colonnes représentent les films. L'avantage du filtrage collaboratif est qu'il ne nécessite aucune information sur les utilisateurs ou sur l'utilisateur des films pour générer des recommandations."
   ]
  },
  {
   "cell_type": "markdown",
   "metadata": {},
   "source": [
    "Nous créons une fonction create_X() qui génère une matrice creuse avec quatre dictionnaires de mappage :\n",
    "\n",
    "- user_mapper : mappe l'ID utilisateur à l'index utilisateur\n",
    "- movie_mapper : mappe l'ID du film à l'index du film\n",
    "- user_inv_mapper : mappe l'index utilisateur à l'ID utilisateur\n",
    "- movie_inv_mapper : mappe l'index du film à l'ID du film\n",
    "\n",
    "Nous avons besoin de ces dictionnaires car ils mappent quelle ligne/colonne de la matrice utilitaire correspond à quel ID utilisateur/film."
   ]
  },
  {
   "cell_type": "code",
   "execution_count": 6,
   "metadata": {},
   "outputs": [],
   "source": [
    "from scipy.sparse import csr_matrix\n",
    "from scipy import sparse\n",
    "\n",
    "def create_X(df):\n",
    "    \"\"\"\n",
    "    Génère une matrice creuse avec quatre dictionnaires de mappage\n",
    "    - user_mapper: mappe l'ID utilisateur à l'index utilisateur\n",
    "    - movie_mapper: mappe l'ID du film à l'index du film\n",
    "    - user_inv_mapper: mappe l'index utilisateur à l'ID utilisateur\n",
    "    - movie_inv_mapper: mappe l'index du film à l'ID du film\n",
    "    Args:\n",
    "        df: pandas dataframe contenant 3 colonnes (userId, movieId, rating)\n",
    "\n",
    "    Returns:\n",
    "        X: sparse matrix\n",
    "        user_mapper: dict that maps user id's to user indices\n",
    "        user_inv_mapper: dict that maps user indices to user id's\n",
    "        movie_mapper: dict that maps movie id's to movie indices\n",
    "        movie_inv_mapper: dict that maps movie indices to movie id's\n",
    "    \"\"\"\n",
    "    M = df['userId'].nunique()\n",
    "    N = df['movieId'].nunique()\n",
    "\n",
    "    user_mapper = dict(zip(np.unique(df[\"userId\"]), list(range(M))))\n",
    "    movie_mapper = dict(zip(np.unique(df[\"movieId\"]), list(range(N))))\n",
    "\n",
    "    user_inv_mapper = dict(zip(list(range(M)), np.unique(df[\"userId\"])))\n",
    "    movie_inv_mapper = dict(zip(list(range(N)), np.unique(df[\"movieId\"])))\n",
    "\n",
    "    user_index = [user_mapper[i] for i in df['userId']]\n",
    "    item_index = [movie_mapper[i] for i in df['movieId']]\n",
    "\n",
    "    X = csr_matrix((df[\"rating\"], (user_index,item_index)), shape=(M,N))\n",
    "\n",
    "    # Sauvegarder la matrice creuse dans un fichier\n",
    "    sparse.save_npz('sparse_matrix.npz', X)\n",
    "\n",
    "    return X, user_mapper, movie_mapper, user_inv_mapper, movie_inv_mapper\n"
   ]
  },
  {
   "cell_type": "code",
   "execution_count": 7,
   "metadata": {},
   "outputs": [
    {
     "name": "stdout",
     "output_type": "stream",
     "text": [
      "Dataset ratings chargé\n"
     ]
    }
   ],
   "source": [
    "ratings = read_ratings('ratings.csv')\n",
    "\n",
    "X, user_mapper, movie_mapper, user_inv_mapper, movie_inv_mapper = create_X(ratings)"
   ]
  },
  {
   "cell_type": "code",
   "execution_count": 23,
   "metadata": {},
   "outputs": [
    {
     "name": "stdout",
     "output_type": "stream",
     "text": [
      "Shape de la matrice creuse X : (138493, 26744)\n",
      "\n",
      "Éléments non nuls dans la matrice creuse :\n",
      "(array([     0,      0,      0, ..., 138492, 138492, 138492], dtype=int32), array([    1,    28,    31, ..., 13875, 13993, 14277], dtype=int32))\n",
      "[3.5 3.5 3.5 3.5 3.5 3.5 4.  4.  4.  4. ]\n"
     ]
    }
   ],
   "source": [
    "# Afficher la forme de la matrice creuse\n",
    "print(\"Shape de la matrice creuse X :\", X.shape)\n",
    "\n",
    "# Afficher quelques éléments non nuls de la matrice\n",
    "print(\"\\nÉléments non nuls dans la matrice creuse :\")\n",
    "print(X.nonzero())  # Affiche les indices des éléments non nuls\n",
    "print(X.data[:10])  # Affiche les 10 premières notes"
   ]
  },
  {
   "cell_type": "code",
   "execution_count": 24,
   "metadata": {},
   "outputs": [
    {
     "name": "stdout",
     "output_type": "stream",
     "text": [
      "\n",
      "Aperçu du user_mapper (premiers 5 utilisateurs) :\n",
      "User ID: 1 -> Index: 0\n",
      "User ID: 2 -> Index: 1\n",
      "User ID: 3 -> Index: 2\n",
      "User ID: 4 -> Index: 3\n",
      "User ID: 5 -> Index: 4\n",
      "\n",
      "Aperçu du movie_mapper (premiers 5 films) :\n",
      "Movie ID: 1 -> Index: 0\n",
      "Movie ID: 2 -> Index: 1\n",
      "Movie ID: 3 -> Index: 2\n",
      "Movie ID: 4 -> Index: 3\n",
      "Movie ID: 5 -> Index: 4\n",
      "\n",
      "Aperçu du user_inv_mapper (premiers 5 indices utilisateurs) :\n",
      "Index: 0 -> User ID: 1\n",
      "Index: 1 -> User ID: 2\n",
      "Index: 2 -> User ID: 3\n",
      "Index: 3 -> User ID: 4\n",
      "Index: 4 -> User ID: 5\n",
      "\n",
      "Aperçu du movie_inv_mapper (premiers 5 indices films) :\n",
      "Index: 0 -> Movie ID: 1\n",
      "Index: 1 -> Movie ID: 2\n",
      "Index: 2 -> Movie ID: 3\n",
      "Index: 3 -> Movie ID: 4\n",
      "Index: 4 -> Movie ID: 5\n"
     ]
    }
   ],
   "source": [
    "# Afficher un aperçu des mappers\n",
    "print(\"\\nAperçu du user_mapper (premiers 5 utilisateurs) :\")\n",
    "for user_id, index in list(user_mapper.items())[:5]:\n",
    "    print(f\"User ID: {user_id} -> Index: {index}\")\n",
    "\n",
    "print(\"\\nAperçu du movie_mapper (premiers 5 films) :\")\n",
    "for movie_id, index in list(movie_mapper.items())[:5]:\n",
    "    print(f\"Movie ID: {movie_id} -> Index: {index}\")\n",
    "\n",
    "print(\"\\nAperçu du user_inv_mapper (premiers 5 indices utilisateurs) :\")\n",
    "for index, user_id in list(user_inv_mapper.items())[:5]:\n",
    "    print(f\"Index: {index} -> User ID: {user_id}\")\n",
    "\n",
    "print(\"\\nAperçu du movie_inv_mapper (premiers 5 indices films) :\")\n",
    "for index, movie_id in list(movie_inv_mapper.items())[:5]:\n",
    "    print(f\"Index: {index} -> Movie ID: {movie_id}\")"
   ]
  },
  {
   "cell_type": "markdown",
   "metadata": {},
   "source": [
    "Nous avons 138493 users et 26744 films\n",
    "\n",
    "Esnuite, nous calculons la parcimonie en divisant le nombre d'éléments stockés par le nombre total d'éléments. Le nombre d'éléments stockés (non vides) dans notre matrice (nnz) est équivalent au nombre de notes dans notre ensemble de données."
   ]
  },
  {
   "cell_type": "code",
   "execution_count": 12,
   "metadata": {},
   "outputs": [
    {
     "name": "stdout",
     "output_type": "stream",
     "text": [
      "Matrix sparsity: 0.54%\n"
     ]
    }
   ],
   "source": [
    "n_total = X.shape[0]*X.shape[1]\n",
    "n_ratings = X.nnz\n",
    "sparsity = n_ratings/n_total\n",
    "print(f\"Matrix sparsity: {round(sparsity*100,2)}%\")"
   ]
  },
  {
   "cell_type": "markdown",
   "metadata": {},
   "source": [
    "csr_matrix.nnz compte les valeurs stockées dans notre matrice. Le reste de nos cellules sont vides.\n",
    "\n",
    "Le problème de démarrage à froid se produit lorsqu'il y a de nouveaux utilisateurs et films dans notre matrice qui n'ont aucune note. Dans notre ensemble de données, tous les utilisateurs et films ont au moins une note, mais il est utile de vérifier quels utilisateurs et films ont peu d'interactions."
   ]
  },
  {
   "cell_type": "code",
   "execution_count": 13,
   "metadata": {},
   "outputs": [
    {
     "name": "stdout",
     "output_type": "stream",
     "text": [
      "L'utilisateur le plus actif a noté 9254 films.\n",
      "Le moins actif en a noté 20\n"
     ]
    }
   ],
   "source": [
    "n_ratings_per_user = X.getnnz(axis=1)\n",
    "print(f\"L'utilisateur le plus actif a noté {n_ratings_per_user.max()} films.\")\n",
    "print(f\"Le moins actif en a noté {n_ratings_per_user.min()}\")"
   ]
  },
  {
   "cell_type": "code",
   "execution_count": 14,
   "metadata": {},
   "outputs": [
    {
     "name": "stdout",
     "output_type": "stream",
     "text": [
      "Le film le plus noté a obtenu 67310 vote.\n",
      "Le moins noté en a obtenu 1.\n"
     ]
    }
   ],
   "source": [
    "n_ratings_per_movie = X.getnnz(axis=0)\n",
    "print(f\"Le film le plus noté a obtenu {n_ratings_per_movie.max()} vote.\")\n",
    "print(f\"Le moins noté en a obtenu {n_ratings_per_movie.min()}.\")"
   ]
  },
  {
   "cell_type": "code",
   "execution_count": 17,
   "metadata": {},
   "outputs": [
    {
     "data": {
      "image/png": "[encoded data removed]",
      "text/plain": [
       "<Figure size 1600x400 with 2 Axes>"
      ]
     },
     "metadata": {},
     "output_type": "display_data"
    }
   ],
   "source": [
    "plt.figure(figsize=(16,4))\n",
    "plt.subplot(1,2,1)\n",
    "sns.kdeplot(n_ratings_per_user, fill=True)\n",
    "plt.xlim(0)\n",
    "plt.title(\"Nombre de vote par utilisateur\", fontsize=14)\n",
    "plt.xlabel(\"nombre de vote par user\")\n",
    "plt.ylabel(\"density\")\n",
    "plt.subplot(1,2,2)\n",
    "sns.kdeplot(n_ratings_per_movie, fill=True)\n",
    "plt.xlim(0)\n",
    "plt.title(\"Nombre de vote par film\", fontsize=14)\n",
    "plt.xlabel(\"nombre de vote par film\")\n",
    "plt.ylabel(\"density\")\n",
    "plt.show();\n"
   ]
  },
  {
   "cell_type": "markdown",
   "metadata": {},
   "source": [
    "### Recommendations avec KNN"
   ]
  },
  {
   "cell_type": "markdown",
   "metadata": {},
   "source": [
    "Nous allons trouver les 𝑘 films qui ont les vecteurs d'engagement des utilisateurs les plus similaires pour un film donné ."
   ]
  },
  {
   "cell_type": "code",
   "execution_count": 8,
   "metadata": {},
   "outputs": [],
   "source": [
    "from sklearn.neighbors import NearestNeighbors\n",
    "import numpy as np\n",
    "\n",
    "def find_similar_movies(movie_id, X, movie_mapper, movie_inv_mapper, k, metric='cosine'):\n",
    "    \"\"\"\n",
    "    Trouve les k voisins les plus proches pour un ID de film donné.\n",
    "\n",
    "    Args:\n",
    "        movie_id: ID du film d'intérêt\n",
    "        X: matrice d'utilité utilisateur-article (matrice creuse)\n",
    "        k: nombre de films similaires à récupérer\n",
    "        metric: métrique de distance pour les calculs kNN\n",
    "\n",
    "    Output: retourne une liste des k ID de films similaires\n",
    "    \"\"\"\n",
    "    # Transposer la matrice X pour que les films soient en lignes et les utilisateurs en colonnes\n",
    "    X = X.T\n",
    "    neighbour_ids = []  # Liste pour stocker les ID des films similaires\n",
    "\n",
    "    # Obtenir l'index du film à partir du mapper\n",
    "    movie_ind = movie_mapper[movie_id]\n",
    "\n",
    "    # Extraire le vecteur correspondant au film spécifié\n",
    "    movie_vec = X[movie_ind]\n",
    "\n",
    "    # Vérifier si movie_vec est un tableau NumPy et le remodeler en 2D si nécessaire\n",
    "    if isinstance(movie_vec, (np.ndarray)):\n",
    "        movie_vec = movie_vec.reshape(1, -1)  # Reshape pour avoir une forme (1, n_features)\n",
    "\n",
    "    # Initialiser NearestNeighbors avec k+1 car nous voulons inclure le film lui-même dans les voisins\n",
    "    kNN = NearestNeighbors(n_neighbors=k + 1, algorithm=\"brute\", metric=metric)\n",
    "\n",
    "    # Ajuster le modèle sur la matrice transposée (films comme lignes)\n",
    "    kNN.fit(X)\n",
    "\n",
    "    # Trouver les k+1 voisins les plus proches (y compris le film d'intérêt)\n",
    "    neighbour = kNN.kneighbors(movie_vec, return_distance=False)\n",
    "\n",
    "    # Collecter les ID des films parmi les voisins trouvés\n",
    "    for i in range(0, k):  # Boucler jusqu'à k pour obtenir seulement les films similaires\n",
    "        n = neighbour.item(i)  # Obtenir l'index du voisin\n",
    "        neighbour_ids.append(movie_inv_mapper[n])  # Mapper l'index à l'ID du film\n",
    "\n",
    "    neighbour_ids.pop(0)  # Retirer le premier élément qui est l'ID du film original\n",
    "\n",
    "    return neighbour_ids  # Retourner la liste des ID de films similaires"
   ]
  },
  {
   "cell_type": "code",
   "execution_count": 34,
   "metadata": {},
   "outputs": [
    {
     "data": {
      "text/plain": [
       "[260, 780, 1210, 3114, 1270, 356, 588, 648, 480]"
      ]
     },
     "execution_count": 34,
     "metadata": {},
     "output_type": "execute_result"
    }
   ],
   "source": [
    "similar_movies = find_similar_movies(1, X, movie_mapper, movie_inv_mapper, k=10)\n",
    "similar_movies"
   ]
  },
  {
   "cell_type": "code",
   "execution_count": 35,
   "metadata": {},
   "outputs": [
    {
     "name": "stdout",
     "output_type": "stream",
     "text": [
      "Because you watched Toy Story (1995):\n",
      "Star Wars: Episode IV - A New Hope (1977)\n",
      "Independence Day (a.k.a. ID4) (1996)\n",
      "Star Wars: Episode VI - Return of the Jedi (1983)\n",
      "Toy Story 2 (1999)\n",
      "Back to the Future (1985)\n",
      "Forrest Gump (1994)\n",
      "Aladdin (1992)\n",
      "Mission: Impossible (1996)\n",
      "Jurassic Park (1993)\n"
     ]
    }
   ],
   "source": [
    "movie_titles = dict(zip(movies['movieId'], movies['title']))\n",
    "\n",
    "movie_id = 1\n",
    "\n",
    "similar_movies = find_similar_movies(movie_id, X, movie_mapper, movie_inv_mapper, metric='cosine', k=10)\n",
    "movie_title = movie_titles[movie_id]\n",
    "\n",
    "print(f\"Because you watched {movie_title}:\")\n",
    "for i in similar_movies:\n",
    "    print(movie_titles[i])"
   ]
  },
  {
   "cell_type": "markdown",
   "metadata": {},
   "source": [
    "Les résultats ci-dessus montrent les 10 films les plus similaires à Toy Story. La plupart des films de cette liste sont des films familiaux des années 1990, ce qui démontre une certaine performance de notre modèle. Ces recommandations sont basées uniquement sur les notes des utilisateurs. Les caractéristiques des films telles que les genres ne sont pas utilisées dans cette approche. Nous pouvons également jouer avec la mesure de distance kNN et voir les résultats obtenus en utilsant « Manhattan » ou « Euclidien » au lieu de « Cosinus »."
   ]
  },
  {
   "cell_type": "code",
   "execution_count": 36,
   "metadata": {},
   "outputs": [
    {
     "name": "stdout",
     "output_type": "stream",
     "text": [
      "Because you watched Toy Story (1995):\n",
      "Toy Story 2 (1999)\n",
      "Willy Wonka & the Chocolate Factory (1971)\n",
      "Independence Day (a.k.a. ID4) (1996)\n",
      "Mission: Impossible (1996)\n",
      "Twister (1996)\n",
      "Bug's Life, A (1998)\n",
      "Men in Black (a.k.a. MIB) (1997)\n",
      "Monsters, Inc. (2001)\n",
      "Groundhog Day (1993)\n"
     ]
    }
   ],
   "source": [
    "# metric Euclidiean\n",
    "movie_id = 1\n",
    "\n",
    "similar_movies = find_similar_movies(movie_id, X, movie_mapper, movie_inv_mapper, metric='euclidean', k=10)\n",
    "movie_title = movie_titles[movie_id]\n",
    "\n",
    "print(f\"Because you watched {movie_title}:\")\n",
    "for i in similar_movies:\n",
    "    print(movie_titles[i])"
   ]
  },
  {
   "cell_type": "code",
   "execution_count": 37,
   "metadata": {},
   "outputs": [
    {
     "name": "stdout",
     "output_type": "stream",
     "text": [
      "Because you watched Toy Story (1995):\n",
      "Toy Story 2 (1999)\n",
      "Willy Wonka & the Chocolate Factory (1971)\n",
      "Bug's Life, A (1998)\n",
      "Monsters, Inc. (2001)\n",
      "Mission: Impossible (1996)\n",
      "Finding Nemo (2003)\n",
      "Independence Day (a.k.a. ID4) (1996)\n",
      "Twister (1996)\n",
      "Men in Black (a.k.a. MIB) (1997)\n"
     ]
    }
   ],
   "source": [
    "# metric Manhattan\n",
    "movie_id = 1\n",
    "\n",
    "similar_movies = find_similar_movies(movie_id, X, movie_mapper, movie_inv_mapper, metric='manhattan', k=10)\n",
    "movie_title = movie_titles[movie_id]\n",
    "\n",
    "print(f\"Because you watched {movie_title}:\")\n",
    "for i in similar_movies:\n",
    "    print(movie_titles[i])"
   ]
  },
  {
   "cell_type": "markdown",
   "metadata": {},
   "source": [
    "### Problème du \"démarrage à froid\""
   ]
  },
  {
   "cell_type": "markdown",
   "metadata": {},
   "source": [
    "Le filtrage collaboratif repose uniquement sur les interactions utilisateur-élément au sein de la matrice d'utilité. Le problème avec cette approche est que les nouveaux utilisateurs ou les éléments sans itération sont exclus du système de recommandation. C'est ce qu'on appelle le problème du démarrage à froid. Le filtrage basé sur le contenu est un moyen de gérer ce problème en générant des recommandations basées sur les caractéristiques de l'utilisateur et de l'élément.\n",
    "\n",
    "Tout d'abord, nous devons convertir la colonne des genres en caractéristiques binaires. Chaque genre aura sa propre colonne dans le dataframe et sera renseigné avec 0 ou 1."
   ]
  },
  {
   "cell_type": "code",
   "execution_count": 9,
   "metadata": {},
   "outputs": [
    {
     "name": "stdout",
     "output_type": "stream",
     "text": [
      "There are 27278 unique movies in our movies dataset.\n"
     ]
    }
   ],
   "source": [
    "n_movies = movies['movieId'].nunique()\n",
    "print(f\"There are {n_movies} unique movies in our movies dataset.\")"
   ]
  },
  {
   "cell_type": "code",
   "execution_count": 10,
   "metadata": {},
   "outputs": [],
   "source": [
    "genres = set(g for G in movies['genres'] for g in G)\n",
    "\n",
    "for g in genres:\n",
    "    movies[g] = movies.genres.transform(lambda x: int(g in x))\n",
    "\n",
    "movie_genres = movies.drop(columns=['movieId', 'title','genres'])"
   ]
  },
  {
   "cell_type": "code",
   "execution_count": 11,
   "metadata": {},
   "outputs": [
    {
     "data": {
      "text/html": [
       "<div>\n",
       "<style scoped>\n",
       "    .dataframe tbody tr th:only-of-type {\n",
       "        vertical-align: middle;\n",
       "    }\n",
       "\n",
       "    .dataframe tbody tr th {\n",
       "        vertical-align: top;\n",
       "    }\n",
       "\n",
       "    .dataframe thead th {\n",
       "        text-align: right;\n",
       "    }\n",
       "</style>\n",
       "<table border=\"1\" class=\"dataframe\">\n",
       "  <thead>\n",
       "    <tr style=\"text-align: right;\">\n",
       "      <th></th>\n",
       "      <th>Romance</th>\n",
       "      <th>Action</th>\n",
       "      <th>Documentary</th>\n",
       "      <th>Crime</th>\n",
       "      <th>Fantasy</th>\n",
       "      <th>Comedy</th>\n",
       "      <th>Western</th>\n",
       "      <th>Adventure</th>\n",
       "      <th>Mystery</th>\n",
       "      <th>Children</th>\n",
       "      <th>Film-Noir</th>\n",
       "      <th>IMAX</th>\n",
       "      <th>Horror</th>\n",
       "      <th>Thriller</th>\n",
       "      <th>Drama</th>\n",
       "      <th>(no genres listed)</th>\n",
       "      <th>Musical</th>\n",
       "      <th>War</th>\n",
       "      <th>Sci-Fi</th>\n",
       "      <th>Animation</th>\n",
       "    </tr>\n",
       "  </thead>\n",
       "  <tbody>\n",
       "    <tr>\n",
       "      <th>0</th>\n",
       "      <td>0</td>\n",
       "      <td>0</td>\n",
       "      <td>0</td>\n",
       "      <td>0</td>\n",
       "      <td>1</td>\n",
       "      <td>1</td>\n",
       "      <td>0</td>\n",
       "      <td>1</td>\n",
       "      <td>0</td>\n",
       "      <td>1</td>\n",
       "      <td>0</td>\n",
       "      <td>0</td>\n",
       "      <td>0</td>\n",
       "      <td>0</td>\n",
       "      <td>0</td>\n",
       "      <td>0</td>\n",
       "      <td>0</td>\n",
       "      <td>0</td>\n",
       "      <td>0</td>\n",
       "      <td>1</td>\n",
       "    </tr>\n",
       "    <tr>\n",
       "      <th>1</th>\n",
       "      <td>0</td>\n",
       "      <td>0</td>\n",
       "      <td>0</td>\n",
       "      <td>0</td>\n",
       "      <td>1</td>\n",
       "      <td>0</td>\n",
       "      <td>0</td>\n",
       "      <td>1</td>\n",
       "      <td>0</td>\n",
       "      <td>1</td>\n",
       "      <td>0</td>\n",
       "      <td>0</td>\n",
       "      <td>0</td>\n",
       "      <td>0</td>\n",
       "      <td>0</td>\n",
       "      <td>0</td>\n",
       "      <td>0</td>\n",
       "      <td>0</td>\n",
       "      <td>0</td>\n",
       "      <td>0</td>\n",
       "    </tr>\n",
       "    <tr>\n",
       "      <th>2</th>\n",
       "      <td>1</td>\n",
       "      <td>0</td>\n",
       "      <td>0</td>\n",
       "      <td>0</td>\n",
       "      <td>0</td>\n",
       "      <td>1</td>\n",
       "      <td>0</td>\n",
       "      <td>0</td>\n",
       "      <td>0</td>\n",
       "      <td>0</td>\n",
       "      <td>0</td>\n",
       "      <td>0</td>\n",
       "      <td>0</td>\n",
       "      <td>0</td>\n",
       "      <td>0</td>\n",
       "      <td>0</td>\n",
       "      <td>0</td>\n",
       "      <td>0</td>\n",
       "      <td>0</td>\n",
       "      <td>0</td>\n",
       "    </tr>\n",
       "    <tr>\n",
       "      <th>3</th>\n",
       "      <td>1</td>\n",
       "      <td>0</td>\n",
       "      <td>0</td>\n",
       "      <td>0</td>\n",
       "      <td>0</td>\n",
       "      <td>1</td>\n",
       "      <td>0</td>\n",
       "      <td>0</td>\n",
       "      <td>0</td>\n",
       "      <td>0</td>\n",
       "      <td>0</td>\n",
       "      <td>0</td>\n",
       "      <td>0</td>\n",
       "      <td>0</td>\n",
       "      <td>1</td>\n",
       "      <td>0</td>\n",
       "      <td>0</td>\n",
       "      <td>0</td>\n",
       "      <td>0</td>\n",
       "      <td>0</td>\n",
       "    </tr>\n",
       "    <tr>\n",
       "      <th>4</th>\n",
       "      <td>0</td>\n",
       "      <td>0</td>\n",
       "      <td>0</td>\n",
       "      <td>0</td>\n",
       "      <td>0</td>\n",
       "      <td>1</td>\n",
       "      <td>0</td>\n",
       "      <td>0</td>\n",
       "      <td>0</td>\n",
       "      <td>0</td>\n",
       "      <td>0</td>\n",
       "      <td>0</td>\n",
       "      <td>0</td>\n",
       "      <td>0</td>\n",
       "      <td>0</td>\n",
       "      <td>0</td>\n",
       "      <td>0</td>\n",
       "      <td>0</td>\n",
       "      <td>0</td>\n",
       "      <td>0</td>\n",
       "    </tr>\n",
       "  </tbody>\n",
       "</table>\n",
       "</div>"
      ],
      "text/plain": [
       "   Romance  Action  Documentary  Crime  Fantasy  Comedy  Western  Adventure  \\\n",
       "0        0       0            0      0        1       1        0          1   \n",
       "1        0       0            0      0        1       0        0          1   \n",
       "2        1       0            0      0        0       1        0          0   \n",
       "3        1       0            0      0        0       1        0          0   \n",
       "4        0       0            0      0        0       1        0          0   \n",
       "\n",
       "   Mystery  Children  Film-Noir  IMAX  Horror  Thriller  Drama  \\\n",
       "0        0         1          0     0       0         0      0   \n",
       "1        0         1          0     0       0         0      0   \n",
       "2        0         0          0     0       0         0      0   \n",
       "3        0         0          0     0       0         0      1   \n",
       "4        0         0          0     0       0         0      0   \n",
       "\n",
       "   (no genres listed)  Musical  War  Sci-Fi  Animation  \n",
       "0                   0        0    0       0          1  \n",
       "1                   0        0    0       0          0  \n",
       "2                   0        0    0       0          0  \n",
       "3                   0        0    0       0          0  \n",
       "4                   0        0    0       0          0  "
      ]
     },
     "execution_count": 11,
     "metadata": {},
     "output_type": "execute_result"
    }
   ],
   "source": [
    "movie_genres.head()"
   ]
  },
  {
   "cell_type": "code",
   "execution_count": 12,
   "metadata": {},
   "outputs": [
    {
     "name": "stdout",
     "output_type": "stream",
     "text": [
      "Dimensions of our genres cosine similarity matrix: (27278, 27278)\n"
     ]
    }
   ],
   "source": [
    "from sklearn.metrics.pairwise import cosine_similarity\n",
    "\n",
    "cosine_sim = cosine_similarity(movie_genres, movie_genres)\n",
    "print(f\"Dimensions of our genres cosine similarity matrix: {cosine_sim.shape}\")"
   ]
  },
  {
   "cell_type": "markdown",
   "metadata": {},
   "source": [
    "Comme prévu, après avoir passé la trame de données movie_genres dans la fonction cosine_similarity(), nous obtenons une matrice de similarité cosinus de forme . Cette matrice est renseignée avec des valeurs comprises entre 0 et 1 qui représentent le degré de similarité entre les films le long des axes x et y."
   ]
  },
  {
   "cell_type": "markdown",
   "metadata": {},
   "source": [
    "### Creation d'un chercheur de films"
   ]
  },
  {
   "cell_type": "markdown",
   "metadata": {},
   "source": [
    "Supposons que nous souhaitons obtenir des recommandations pour des films similaires à Jumanji. Pour obtenir des résultats de notre outil de recommandation, nous devons connaître le titre exact d'un film dans notre ensemble de données. Dans notre ensemble de données, Jumanji est en fait répertorié comme « Jumanji (1995) ». Si nous orthographions mal Jumanji ou oublions d'inclure son année de sortie, notre outil de recommandation ne pourra pas identifier le film qui nous intéresse. Pour rendre notre outil de recommandation plus convivial, nous pouvons utiliser un package Python appelé **fuzzywuzzy** qui trouvera le titre le plus similaire à une chaîne que vous transmettez. Créons une fonction appelée movie_finder() qui tire parti de l'algorithme de correspondance de chaînes de fuzzywuzzy pour obtenir le titre le plus similaire à une chaîne saisie par l'utilisateur."
   ]
  },
  {
   "cell_type": "code",
   "execution_count": 13,
   "metadata": {},
   "outputs": [],
   "source": [
    "from fuzzywuzzy import process\n",
    "\n",
    "def movie_finder(title):\n",
    "    all_titles = movies['title'].tolist()\n",
    "    closest_match = process.extractOne(title,all_titles)\n",
    "    return closest_match[0]"
   ]
  },
  {
   "cell_type": "code",
   "execution_count": 14,
   "metadata": {},
   "outputs": [
    {
     "data": {
      "text/plain": [
       "'Jumanji (1995)'"
      ]
     },
     "execution_count": 14,
     "metadata": {},
     "output_type": "execute_result"
    }
   ],
   "source": [
    "title = movie_finder('juminji')\n",
    "title"
   ]
  },
  {
   "cell_type": "markdown",
   "metadata": {},
   "source": [
    "Pour obtenir des recommandations pertinentes pour Jumanji, nous devons trouver son index dans la matrice de similitude cosinus. Pour identifier la ligne que nous devons examiner, nous pouvons créer un mappeur d'index de film qui mappe un titre de film à l'index qu'il représente dans notre matrice. Créons un dictionnaire d'index de film appelé movie_idx où les clés sont les titres de film et les valeurs sont les indices de film :"
   ]
  },
  {
   "cell_type": "code",
   "execution_count": 15,
   "metadata": {},
   "outputs": [
    {
     "name": "stdout",
     "output_type": "stream",
     "text": [
      "Movie index for Jumanji: 1\n"
     ]
    }
   ],
   "source": [
    "movie_idx = dict(zip(movies['title'], list(movies.index)))\n",
    "idx = movie_idx[title]\n",
    "print(f\"Movie index for Jumanji: {idx}\")"
   ]
  },
  {
   "cell_type": "markdown",
   "metadata": {},
   "source": [
    "Grâce à ce dictionnaire movie_idx pratique, nous savons que Jumanji est représenté par l'index 1 dans notre matrice. Passons au top 10 des films les plus similaires à Jumanji."
   ]
  },
  {
   "cell_type": "code",
   "execution_count": 16,
   "metadata": {},
   "outputs": [],
   "source": [
    "n_recommendations=10\n",
    "sim_scores = list(enumerate(cosine_sim[idx]))\n",
    "sim_scores = sorted(sim_scores, key=lambda x: x[1], reverse=True)\n",
    "sim_scores = sim_scores[1:(n_recommendations+1)]\n",
    "similar_movies = [i[0] for i in sim_scores]"
   ]
  },
  {
   "cell_type": "markdown",
   "metadata": {},
   "source": [
    "similar_movies est un tableau d'indices qui représente les 10 principales recommandations de Jumanji. Nous pouvons obtenir les titres de films correspondants soit en créant un mappeur movie_idx inverse, soit en utilisant iloc sur la colonne de titre de la trame de données des films."
   ]
  },
  {
   "cell_type": "code",
   "execution_count": 17,
   "metadata": {},
   "outputs": [
    {
     "name": "stdout",
     "output_type": "stream",
     "text": [
      "Because you watched Jumanji (1995):\n"
     ]
    },
    {
     "data": {
      "text/plain": [
       "55                         Kids of the Round Table (1995)\n",
       "59                     Indian in the Cupboard, The (1995)\n",
       "124                     NeverEnding Story III, The (1994)\n",
       "990                       Escape to Witch Mountain (1975)\n",
       "1959            Darby O'Gill and the Little People (1959)\n",
       "2009                                  Return to Oz (1985)\n",
       "2077                        NeverEnding Story, The (1984)\n",
       "2078    NeverEnding Story II: The Next Chapter, The (1...\n",
       "2314                        Santa Claus: The Movie (1985)\n",
       "4800    Harry Potter and the Sorcerer's Stone (a.k.a. ...\n",
       "Name: title, dtype: object"
      ]
     },
     "execution_count": 17,
     "metadata": {},
     "output_type": "execute_result"
    }
   ],
   "source": [
    "print(f\"Because you watched {title}:\")\n",
    "movies['title'].iloc[similar_movies]"
   ]
  },
  {
   "cell_type": "code",
   "execution_count": 18,
   "metadata": {},
   "outputs": [],
   "source": [
    "# Focntion qui regroupe les recommandations\n",
    "def get_content_based_recommendations(title_string, n_recommendations=10):\n",
    "    title = movie_finder(title_string)\n",
    "    idx = movie_idx[title]\n",
    "    sim_scores = list(enumerate(cosine_sim[idx]))\n",
    "    sim_scores = sorted(sim_scores, key=lambda x: x[1], reverse=True)\n",
    "    sim_scores = sim_scores[1:(n_recommendations+1)]\n",
    "    similar_movies = [i[0] for i in sim_scores]\n",
    "    print(f\"Because you watched {title}:\")\n",
    "    print(movies['title'].iloc[similar_movies])"
   ]
  },
  {
   "cell_type": "code",
   "execution_count": 20,
   "metadata": {},
   "outputs": [
    {
     "name": "stdout",
     "output_type": "stream",
     "text": [
      "Because you watched Toy Story (1995):\n",
      "2209                                           Antz (1998)\n",
      "3027                                    Toy Story 2 (1999)\n",
      "3663        Adventures of Rocky and Bullwinkle, The (2000)\n",
      "3922                      Emperor's New Groove, The (2000)\n",
      "4790                                 Monsters, Inc. (2001)\n",
      "10114    DuckTales: The Movie - Treasure of the Lost La...\n",
      "10987                                     Wild, The (2006)\n",
      "11871                               Shrek the Third (2007)\n",
      "13337                       Tale of Despereaux, The (2008)\n",
      "18274    Asterix and the Vikings (AstÃ©rix et les Vikin...\n",
      "Name: title, dtype: object\n"
     ]
    }
   ],
   "source": [
    "get_content_based_recommendations('toy story', 10)"
   ]
  },
  {
   "cell_type": "markdown",
   "metadata": {},
   "source": [
    "### Réduction de dimensionnalité avec factorisation matricielle"
   ]
  },
  {
   "cell_type": "markdown",
   "metadata": {},
   "source": [
    "La factorisation matricielle (MF) est une technique d'algèbre linéaire qui peut nous aider à découvrir des caractéristiques latentes sous-jacentes aux interactions entre les utilisateurs et les films. Ces caractéristiques latentes donnent une représentation plus compacte des goûts des utilisateurs et des descriptions des articles. La MF est particulièrement utile pour les données très éparses et peut améliorer la qualité des recommandations. L'algorithme fonctionne en factorisant la matrice utilisateur-article d'origine en deux matrices de facteurs : \n",
    "- matrice utilisateur-facteur (n_utilisateurs, k) \n",
    "- matrice article-facteur (k, n_articles) <br><br>\n",
    "Nous réduisons les dimensions de notre matrice d'origine en dimensions de « goût ». Nous ne pouvons pas interpréter ce que représente chaque caractéristique latente. Cependant, nous pourrions imaginer qu'une caractéristique latente puisse représenter des utilisateurs qui aiment les comédies romantiques des années 1990, tandis qu'une autre caractéristique latente puisse représenter des films indépendants en langue étrangère."
   ]
  },
  {
   "cell_type": "code",
   "execution_count": 21,
   "metadata": {},
   "outputs": [
    {
     "data": {
      "text/plain": [
       "(26744, 20)"
      ]
     },
     "execution_count": 21,
     "metadata": {},
     "output_type": "execute_result"
    }
   ],
   "source": [
    "from sklearn.decomposition import TruncatedSVD\n",
    "\n",
    "svd = TruncatedSVD(n_components=20, n_iter=10)\n",
    "Q = svd.fit_transform(X.T)\n",
    "Q.shape"
   ]
  },
  {
   "cell_type": "code",
   "execution_count": 23,
   "metadata": {},
   "outputs": [
    {
     "name": "stdout",
     "output_type": "stream",
     "text": [
      "Because you watched Toy Story (1995):\n",
      "Willy Wonka & the Chocolate Factory (1971)\n",
      "Independence Day (a.k.a. ID4) (1996)\n",
      "Mission: Impossible (1996)\n",
      "James and the Giant Peach (1996)\n",
      "Toy Story 2 (1999)\n",
      "Twister (1996)\n",
      "Star Wars: Episode IV - A New Hope (1977)\n",
      "Lion King, The (1994)\n",
      "Rock, The (1996)\n"
     ]
    },
    {
     "ename": "",
     "evalue": "",
     "output_type": "error",
     "traceback": [
      "\u001b[1;31mLe noyau s’est bloqué lors de l’exécution du code dans une cellule active ou une cellule précédente. \n",
      "\u001b[1;31mVeuillez vérifier le code dans la ou les cellules pour identifier une cause possible de l’échec. \n",
      "\u001b[1;31mCliquez <a href='https://aka.ms/vscodeJupyterKernelCrash'>ici</a> pour plus d’informations. \n",
      "\u001b[1;31mPour plus d’informations, consultez Jupyter <a href='command:jupyter.viewOutput'>log</a>."
     ]
    }
   ],
   "source": [
    "movie_id = 1\n",
    "movie_titles = dict(zip(movies['movieId'], movies['title']))\n",
    "similar_movies = find_similar_movies(movie_id, Q.T, movie_mapper, movie_inv_mapper, metric='cosine', k=10)\n",
    "movie_title = movie_titles[movie_id]\n",
    "\n",
    "print(f\"Because you watched {movie_title}:\")\n",
    "for i in similar_movies:\n",
    "    print(movie_titles[i])"
   ]
  },
  {
   "cell_type": "markdown",
   "metadata": {},
   "source": [
    "Les résultats ci-dessus sont les films les plus similaires à Toy Story en utilisant kNN sur notre matrice de facteurs de film « compressée ». Nous avons réduit les dimensions à n_components=20. Nous pouvons considérer que chaque composant représente une caractéristique latente telle que le genre du film."
   ]
  },
  {
   "cell_type": "code",
   "execution_count": 2,
   "metadata": {},
   "outputs": [],
   "source": [
    "from scipy.sparse import csr_matrix\n",
    "from scipy import sparse\n",
    "from sklearn.neighbors import NearestNeighbors\n",
    "import numpy as np\n",
    "import pandas as pd\n",
    "\n",
    "class MovieRecommender:\n",
    "    def __init__(self):\n",
    "        self.X = None  # Matrice creuse\n",
    "        self.user_mapper = {}\n",
    "        self.movie_mapper = {}\n",
    "        self.user_inv_mapper = {}\n",
    "        self.movie_inv_mapper = {}\n",
    "        self.kNN = None  # Modèle KNN\n",
    "\n",
    "    def create_X(self, df):\n",
    "        \"\"\"\n",
    "        Génère une matrice creuse avec quatre dictionnaires de mappage.\n",
    "\n",
    "        Args:\n",
    "            df: pandas dataframe contenant 3 colonnes (userId, movieId, rating)\n",
    "\n",
    "        Returns:\n",
    "            None\n",
    "        \"\"\"\n",
    "        M = df['userId'].nunique()\n",
    "        N = df['movieId'].nunique()\n",
    "\n",
    "        # Mapper les IDs d'utilisateurs et de films à leurs indices respectifs\n",
    "        self.user_mapper = dict(zip(np.unique(df[\"userId\"]), list(range(M))))\n",
    "        self.movie_mapper = dict(zip(np.unique(df[\"movieId\"]), list(range(N))))\n",
    "\n",
    "        self.user_inv_mapper = dict(zip(list(range(M)), np.unique(df[\"userId\"])))\n",
    "        self.movie_inv_mapper = dict(zip(list(range(N)), np.unique(df[\"movieId\"])))\n",
    "\n",
    "        user_index = [self.user_mapper[i] for i in df['userId']]\n",
    "        item_index = [self.movie_mapper[i] for i in df['movieId']]\n",
    "\n",
    "        # Créer la matrice creuse\n",
    "        self.X = csr_matrix((df[\"rating\"], (user_index, item_index)), shape=(M, N))\n",
    "\n",
    "        # Sauvegarder la matrice creuse dans un fichier\n",
    "        sparse.save_npz('sparse_matrix.npz', self.X)\n",
    "\n",
    "    def fit(self, k=5, metric='cosine'):\n",
    "        \"\"\"\n",
    "        Entraîne le modèle KNN sur la matrice d'utilité.\n",
    "\n",
    "        Args:\n",
    "            k: nombre de voisins à considérer\n",
    "            metric: métrique de distance pour kNN\n",
    "\n",
    "        Returns:\n",
    "            None\n",
    "        \"\"\"\n",
    "        # Transposer la matrice X pour que les films soient en lignes et les utilisateurs en colonnes\n",
    "        X_transposed = self.X.T\n",
    "\n",
    "        # Initialiser le modèle KNN\n",
    "        self.kNN = NearestNeighbors(n_neighbors=k + 1, algorithm=\"brute\", metric=metric)\n",
    "\n",
    "        # Ajuster le modèle sur la matrice transposée (films comme lignes)\n",
    "        self.kNN.fit(X_transposed)\n",
    "\n",
    "    def find_similar_movies(self, movie_id, k):\n",
    "        \"\"\"\n",
    "        Trouve les k voisins les plus proches pour un ID de film donné.\n",
    "\n",
    "        Args:\n",
    "            movie_id: ID du film d'intérêt\n",
    "            k: nombre de films similaires à récupérer\n",
    "\n",
    "        Output: retourne une liste des k ID de films similaires\n",
    "        \"\"\"\n",
    "        # Obtenir l'index du film à partir du mapper\n",
    "        movie_ind = self.movie_mapper[movie_id]\n",
    "\n",
    "        # Extraire le vecteur correspondant au film spécifié\n",
    "        movie_vec = self.X[movie_ind]\n",
    "\n",
    "        # Vérifier si movie_vec est un tableau NumPy et le remodeler en 2D si nécessaire\n",
    "        if isinstance(movie_vec, (np.ndarray)):\n",
    "            movie_vec = movie_vec.reshape(1, -1)  # Reshape pour avoir une forme (1, n_features)\n",
    "\n",
    "        # Trouver les k+1 voisins les plus proches (y compris le film d'intérêt)\n",
    "        neighbours = self.kNN.kneighbors(movie_vec, return_distance=False)\n",
    "\n",
    "        neighbour_ids = []\n",
    "\n",
    "        # Collecter les ID des films parmi les voisins trouvés\n",
    "        for i in range(0, k):  # Boucler jusqu'à k pour obtenir seulement les films similaires\n",
    "            n = neighbours.item(i)  # Obtenir l'index du voisin\n",
    "            neighbour_ids.append(self.movie_inv_mapper[n])  # Mapper l'index à l'ID du film\n",
    "\n",
    "        return neighbour_ids  # Retourner la liste des ID de films similaires\n",
    "\n"
   ]
  },
  {
   "cell_type": "code",
   "execution_count": 4,
   "metadata": {},
   "outputs": [
    {
     "ename": "ValueError",
     "evalue": "X has 26744 features, but NearestNeighbors is expecting 138493 features as input.",
     "output_type": "error",
     "traceback": [
      "\u001b[0;31m---------------------------------------------------------------------------\u001b[0m",
      "\u001b[0;31mValueError\u001b[0m                                Traceback (most recent call last)",
      "Cell \u001b[0;32mIn[4], line 10\u001b[0m\n\u001b[1;32m      7\u001b[0m recommender\u001b[38;5;241m.\u001b[39mfit(k\u001b[38;5;241m=\u001b[39m\u001b[38;5;241m10\u001b[39m)  \u001b[38;5;66;03m# Entraîner le modèle KNN avec k=5\u001b[39;00m\n\u001b[1;32m      9\u001b[0m \u001b[38;5;66;03m# Trouver des films similaires pour un film donné (par exemple avec ID 1)\u001b[39;00m\n\u001b[0;32m---> 10\u001b[0m similar_movies \u001b[38;5;241m=\u001b[39m \u001b[43mrecommender\u001b[49m\u001b[38;5;241;43m.\u001b[39;49m\u001b[43mfind_similar_movies\u001b[49m\u001b[43m(\u001b[49m\u001b[43mmovie_id\u001b[49m\u001b[38;5;241;43m=\u001b[39;49m\u001b[38;5;241;43m1\u001b[39;49m\u001b[43m,\u001b[49m\u001b[43m \u001b[49m\u001b[43mk\u001b[49m\u001b[38;5;241;43m=\u001b[39;49m\u001b[38;5;241;43m10\u001b[39;49m\u001b[43m)\u001b[49m\n\u001b[1;32m     11\u001b[0m \u001b[38;5;28mprint\u001b[39m(\u001b[38;5;124m\"\u001b[39m\u001b[38;5;124mFilms similaires recommandés :\u001b[39m\u001b[38;5;124m\"\u001b[39m, similar_movies)\n",
      "Cell \u001b[0;32mIn[2], line 86\u001b[0m, in \u001b[0;36mMovieRecommender.find_similar_movies\u001b[0;34m(self, movie_id, k)\u001b[0m\n\u001b[1;32m     83\u001b[0m     movie_vec \u001b[38;5;241m=\u001b[39m movie_vec\u001b[38;5;241m.\u001b[39mreshape(\u001b[38;5;241m1\u001b[39m, \u001b[38;5;241m-\u001b[39m\u001b[38;5;241m1\u001b[39m)  \u001b[38;5;66;03m# Reshape pour avoir une forme (1, n_features)\u001b[39;00m\n\u001b[1;32m     85\u001b[0m \u001b[38;5;66;03m# Trouver les k+1 voisins les plus proches (y compris le film d'intérêt)\u001b[39;00m\n\u001b[0;32m---> 86\u001b[0m neighbours \u001b[38;5;241m=\u001b[39m \u001b[38;5;28;43mself\u001b[39;49m\u001b[38;5;241;43m.\u001b[39;49m\u001b[43mkNN\u001b[49m\u001b[38;5;241;43m.\u001b[39;49m\u001b[43mkneighbors\u001b[49m\u001b[43m(\u001b[49m\u001b[43mmovie_vec\u001b[49m\u001b[43m,\u001b[49m\u001b[43m \u001b[49m\u001b[43mreturn_distance\u001b[49m\u001b[38;5;241;43m=\u001b[39;49m\u001b[38;5;28;43;01mFalse\u001b[39;49;00m\u001b[43m)\u001b[49m\n\u001b[1;32m     88\u001b[0m neighbour_ids \u001b[38;5;241m=\u001b[39m []\n\u001b[1;32m     90\u001b[0m \u001b[38;5;66;03m# Collecter les ID des films parmi les voisins trouvés\u001b[39;00m\n",
      "File \u001b[0;32m~/miniconda3/envs/reco_movies/lib/python3.12/site-packages/sklearn/neighbors/_base.py:825\u001b[0m, in \u001b[0;36mKNeighborsMixin.kneighbors\u001b[0;34m(self, X, n_neighbors, return_distance)\u001b[0m\n\u001b[1;32m    823\u001b[0m         X \u001b[38;5;241m=\u001b[39m _check_precomputed(X)\n\u001b[1;32m    824\u001b[0m     \u001b[38;5;28;01melse\u001b[39;00m:\n\u001b[0;32m--> 825\u001b[0m         X \u001b[38;5;241m=\u001b[39m \u001b[38;5;28;43mself\u001b[39;49m\u001b[38;5;241;43m.\u001b[39;49m\u001b[43m_validate_data\u001b[49m\u001b[43m(\u001b[49m\u001b[43mX\u001b[49m\u001b[43m,\u001b[49m\u001b[43m \u001b[49m\u001b[43maccept_sparse\u001b[49m\u001b[38;5;241;43m=\u001b[39;49m\u001b[38;5;124;43m\"\u001b[39;49m\u001b[38;5;124;43mcsr\u001b[39;49m\u001b[38;5;124;43m\"\u001b[39;49m\u001b[43m,\u001b[49m\u001b[43m \u001b[49m\u001b[43mreset\u001b[49m\u001b[38;5;241;43m=\u001b[39;49m\u001b[38;5;28;43;01mFalse\u001b[39;49;00m\u001b[43m,\u001b[49m\u001b[43m \u001b[49m\u001b[43morder\u001b[49m\u001b[38;5;241;43m=\u001b[39;49m\u001b[38;5;124;43m\"\u001b[39;49m\u001b[38;5;124;43mC\u001b[39;49m\u001b[38;5;124;43m\"\u001b[39;49m\u001b[43m)\u001b[49m\n\u001b[1;32m    827\u001b[0m n_samples_fit \u001b[38;5;241m=\u001b[39m \u001b[38;5;28mself\u001b[39m\u001b[38;5;241m.\u001b[39mn_samples_fit_\n\u001b[1;32m    828\u001b[0m \u001b[38;5;28;01mif\u001b[39;00m n_neighbors \u001b[38;5;241m>\u001b[39m n_samples_fit:\n",
      "File \u001b[0;32m~/miniconda3/envs/reco_movies/lib/python3.12/site-packages/sklearn/base.py:654\u001b[0m, in \u001b[0;36mBaseEstimator._validate_data\u001b[0;34m(self, X, y, reset, validate_separately, cast_to_ndarray, **check_params)\u001b[0m\n\u001b[1;32m    651\u001b[0m     out \u001b[38;5;241m=\u001b[39m X, y\n\u001b[1;32m    653\u001b[0m \u001b[38;5;28;01mif\u001b[39;00m \u001b[38;5;129;01mnot\u001b[39;00m no_val_X \u001b[38;5;129;01mand\u001b[39;00m check_params\u001b[38;5;241m.\u001b[39mget(\u001b[38;5;124m\"\u001b[39m\u001b[38;5;124mensure_2d\u001b[39m\u001b[38;5;124m\"\u001b[39m, \u001b[38;5;28;01mTrue\u001b[39;00m):\n\u001b[0;32m--> 654\u001b[0m     \u001b[38;5;28;43mself\u001b[39;49m\u001b[38;5;241;43m.\u001b[39;49m\u001b[43m_check_n_features\u001b[49m\u001b[43m(\u001b[49m\u001b[43mX\u001b[49m\u001b[43m,\u001b[49m\u001b[43m \u001b[49m\u001b[43mreset\u001b[49m\u001b[38;5;241;43m=\u001b[39;49m\u001b[43mreset\u001b[49m\u001b[43m)\u001b[49m\n\u001b[1;32m    656\u001b[0m \u001b[38;5;28;01mreturn\u001b[39;00m out\n",
      "File \u001b[0;32m~/miniconda3/envs/reco_movies/lib/python3.12/site-packages/sklearn/base.py:443\u001b[0m, in \u001b[0;36mBaseEstimator._check_n_features\u001b[0;34m(self, X, reset)\u001b[0m\n\u001b[1;32m    440\u001b[0m     \u001b[38;5;28;01mreturn\u001b[39;00m\n\u001b[1;32m    442\u001b[0m \u001b[38;5;28;01mif\u001b[39;00m n_features \u001b[38;5;241m!=\u001b[39m \u001b[38;5;28mself\u001b[39m\u001b[38;5;241m.\u001b[39mn_features_in_:\n\u001b[0;32m--> 443\u001b[0m     \u001b[38;5;28;01mraise\u001b[39;00m \u001b[38;5;167;01mValueError\u001b[39;00m(\n\u001b[1;32m    444\u001b[0m         \u001b[38;5;124mf\u001b[39m\u001b[38;5;124m\"\u001b[39m\u001b[38;5;124mX has \u001b[39m\u001b[38;5;132;01m{\u001b[39;00mn_features\u001b[38;5;132;01m}\u001b[39;00m\u001b[38;5;124m features, but \u001b[39m\u001b[38;5;132;01m{\u001b[39;00m\u001b[38;5;28mself\u001b[39m\u001b[38;5;241m.\u001b[39m\u001b[38;5;18m__class__\u001b[39m\u001b[38;5;241m.\u001b[39m\u001b[38;5;18m__name__\u001b[39m\u001b[38;5;132;01m}\u001b[39;00m\u001b[38;5;124m \u001b[39m\u001b[38;5;124m\"\u001b[39m\n\u001b[1;32m    445\u001b[0m         \u001b[38;5;124mf\u001b[39m\u001b[38;5;124m\"\u001b[39m\u001b[38;5;124mis expecting \u001b[39m\u001b[38;5;132;01m{\u001b[39;00m\u001b[38;5;28mself\u001b[39m\u001b[38;5;241m.\u001b[39mn_features_in_\u001b[38;5;132;01m}\u001b[39;00m\u001b[38;5;124m features as input.\u001b[39m\u001b[38;5;124m\"\u001b[39m\n\u001b[1;32m    446\u001b[0m     )\n",
      "\u001b[0;31mValueError\u001b[0m: X has 26744 features, but NearestNeighbors is expecting 138493 features as input."
     ]
    }
   ],
   "source": [
    "# Exemple d'utilisation :\n",
    "# Supposons que vous ayez déjà chargé vos données dans 'ratings'\n",
    "ratings_df = pd.read_csv('/home/antoine/Ml_Ops_Movies_Reco/app/shared_volume/raw/ratings.csv')  # Remplacez par votre fichier CSV\n",
    "\n",
    "recommender = MovieRecommender()\n",
    "recommender.create_X(ratings_df)  # Créer la matrice creuse à partir des données\n",
    "recommender.fit(k=10)  # Entraîner le modèle KNN avec k=5\n",
    "\n",
    "# Trouver des films similaires pour un film donné (par exemple avec ID 1)\n",
    "similar_movies = recommender.find_similar_movies(movie_id=1, k=10)\n",
    "print(\"Films similaires recommandés :\", similar_movies)"
   ]
  },
  {
   "cell_type": "code",
   "execution_count": null,
   "metadata": {},
   "outputs": [],
   "source": []
  }
 ],
 "metadata": {
  "kernelspec": {
   "display_name": "reco_movies",
   "language": "python",
   "name": "python3"
  },
  "language_info": {
   "codemirror_mode": {
    "name": "ipython",
    "version": 3
   },
   "file_extension": ".py",
   "mimetype": "text/x-python",
   "name": "python",
   "nbconvert_exporter": "python",
   "pygments_lexer": "ipython3",
   "version": "3.12.2"
  }
 },
 "nbformat": 4,
 "nbformat_minor": 2
}
